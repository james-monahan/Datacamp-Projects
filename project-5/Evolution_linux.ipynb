{
  "nbformat": 4,
  "nbformat_minor": 0,
  "metadata": {
    "kernelspec": {
      "language": "python",
      "display_name": "Python 3",
      "name": "python3"
    },
    "language_info": {
      "file_extension": ".py",
      "version": "3.5.2",
      "mimetype": "text/x-python",
      "pygments_lexer": "ipython3",
      "nbconvert_exporter": "python",
      "name": "python",
      "codemirror_mode": {
        "version": 3,
        "name": "ipython"
      }
    },
    "colab": {
      "name": "Evolution-linux.ipynb",
      "provenance": [],
      "include_colab_link": true
    }
  },
  "cells": [
    {
      "cell_type": "markdown",
      "metadata": {
        "id": "view-in-github",
        "colab_type": "text"
      },
      "source": [
        "<a href=\"https://colab.research.google.com/github/james-monahan/Datacamp-Projects/blob/main/project-5/Evolution_linux.ipynb\" target=\"_parent\"><img src=\"https://colab.research.google.com/assets/colab-badge.svg\" alt=\"Open In Colab\"/></a>"
      ]
    },
    {
      "cell_type": "markdown",
      "metadata": {
        "dc": {
          "key": "4"
        },
        "deletable": false,
        "run_control": {
          "frozen": true
        },
        "tags": [
          "context"
        ],
        "editable": false,
        "id": "43zCftgQ8YYI"
      },
      "source": [
        "## 1. Introduction\n",
        "<p>Version control repositories like CVS, Subversion or Git can be a real gold mine for software developers. They contain every change to the source code including the date (the \"when\"), the responsible developer (the \"who\"), as well as little message that describes the intention (the \"what\") of a change.</p>\n",
        "<p><a href=\"https://commons.wikimedia.org/wiki/File:Tux.svg\">\n",
        "<img style=\"float: right;margin:5px 20px 5px 1px\" width=\"150px\" src=\"https://assets.datacamp.com/production/project_111/img/tux.png\" alt=\"Tux - the Linux mascot\">\n",
        "</a></p>\n",
        "<p>In this notebook, we will analyze the evolution of a very famous open-source project &ndash; the Linux kernel. The Linux kernel is the heart of some Linux distributions like Debian, Ubuntu or CentOS. </p>\n",
        "<p>We get some first insights into the work of the development efforts by </p>\n",
        "<ul>\n",
        "<li>identifying the TOP 10 contributors and</li>\n",
        "<li>visualizing the commits over the years.</li>\n",
        "</ul>\n",
        "<p>Linus Torvalds, the (spoiler alert!) main contributor to the Linux kernel (and also the creator of Git), created a <a href=\"https://github.com/torvalds/linux/\">mirror of the Linux repository on GitHub</a>. It contains the complete history of kernel development for the last 13 years.</p>\n",
        "<p>For our analysis, we will use a Git log file with the following content:</p>"
      ]
    },
    {
      "cell_type": "code",
      "metadata": {
        "dc": {
          "key": "4"
        },
        "trusted": true,
        "tags": [
          "sample_code"
        ],
        "id": "SFRgr8J28YYL",
        "outputId": "9d69a7f2-0c1d-4cbe-a8c7-e8e697a707cc"
      },
      "source": [
        "# Printing the content of git_log_excerpt.csv\n",
        "with open('datasets/git_log_excerpt.csv') as file:\n",
        "    read_file = file.read()\n",
        "    \n",
        "print(read_file)"
      ],
      "execution_count": null,
      "outputs": [
        {
          "output_type": "stream",
          "text": [
            "1502382966#Linus Torvalds\n",
            "1501368308#Max Gurtovoy\n",
            "1501625560#James Smart\n",
            "1501625559#James Smart\n",
            "1500568442#Martin Wilck\n",
            "1502273719#Xin Long\n",
            "1502278684#Nikolay Borisov\n",
            "1502238384#Girish Moodalbail\n",
            "1502228709#Florian Fainelli\n",
            "1502223836#Jon Paul Maloy\n"
          ],
          "name": "stdout"
        }
      ]
    },
    {
      "cell_type": "markdown",
      "metadata": {
        "dc": {
          "key": "11"
        },
        "deletable": false,
        "run_control": {
          "frozen": true
        },
        "tags": [
          "context"
        ],
        "editable": false,
        "id": "C4_Mg1Y18YYN"
      },
      "source": [
        "## 2. Reading in the dataset\n",
        "<p>The dataset was created by using the command <code>git log --encoding=latin-1 --pretty=\"%at#%aN\"</code>. The <code>latin-1</code> encoded text output was saved in a header-less csv file. In this file, each row is a commit entry with the following information:</p>\n",
        "<ul>\n",
        "<li><code>timestamp</code>: the time of the commit as a UNIX timestamp in seconds since 1970-01-01 00:00:00 (Git log placeholder \"<code>%at</code>\")</li>\n",
        "<li><code>author</code>: the name of the author that performed the commit (Git log placeholder \"<code>%aN</code>\")</li>\n",
        "</ul>\n",
        "<p>The columns are separated by the number sign <code>#</code>. The complete dataset is in the <code>datasets/</code> directory. It is a <code>gz</code>-compressed csv file named <code>git_log.gz</code>.</p>"
      ]
    },
    {
      "cell_type": "code",
      "metadata": {
        "dc": {
          "key": "11"
        },
        "trusted": true,
        "tags": [
          "sample_code"
        ],
        "id": "YWO4VOvx8YYQ",
        "outputId": "2dcccb0e-7925-4958-ff27-a5cb997dd0ad"
      },
      "source": [
        "# Loading in the pandas module\n",
        "import pandas as pd\n",
        "\n",
        "# Reading in the log file\n",
        "git_log = pd.read_csv('datasets/git_log.gz', sep='#', encoding='latin-1',\n",
        "                     header=None, names=['timestamp', 'author'])\n",
        "\n",
        "# Printing out the first 5 rows\n",
        "git_log.head()\n"
      ],
      "execution_count": null,
      "outputs": [
        {
          "output_type": "execute_result",
          "data": {
            "text/plain": [
              "    timestamp          author\n",
              "0  1502826583  Linus Torvalds\n",
              "1  1501749089   Adrian Hunter\n",
              "2  1501749088   Adrian Hunter\n",
              "3  1501882480       Kees Cook\n",
              "4  1497271395       Rob Clark"
            ],
            "text/html": [
              "<div>\n",
              "<style scoped>\n",
              "    .dataframe tbody tr th:only-of-type {\n",
              "        vertical-align: middle;\n",
              "    }\n",
              "\n",
              "    .dataframe tbody tr th {\n",
              "        vertical-align: top;\n",
              "    }\n",
              "\n",
              "    .dataframe thead th {\n",
              "        text-align: right;\n",
              "    }\n",
              "</style>\n",
              "<table border=\"1\" class=\"dataframe\">\n",
              "  <thead>\n",
              "    <tr style=\"text-align: right;\">\n",
              "      <th></th>\n",
              "      <th>timestamp</th>\n",
              "      <th>author</th>\n",
              "    </tr>\n",
              "  </thead>\n",
              "  <tbody>\n",
              "    <tr>\n",
              "      <th>0</th>\n",
              "      <td>1502826583</td>\n",
              "      <td>Linus Torvalds</td>\n",
              "    </tr>\n",
              "    <tr>\n",
              "      <th>1</th>\n",
              "      <td>1501749089</td>\n",
              "      <td>Adrian Hunter</td>\n",
              "    </tr>\n",
              "    <tr>\n",
              "      <th>2</th>\n",
              "      <td>1501749088</td>\n",
              "      <td>Adrian Hunter</td>\n",
              "    </tr>\n",
              "    <tr>\n",
              "      <th>3</th>\n",
              "      <td>1501882480</td>\n",
              "      <td>Kees Cook</td>\n",
              "    </tr>\n",
              "    <tr>\n",
              "      <th>4</th>\n",
              "      <td>1497271395</td>\n",
              "      <td>Rob Clark</td>\n",
              "    </tr>\n",
              "  </tbody>\n",
              "</table>\n",
              "</div>"
            ]
          },
          "metadata": {
            "tags": []
          },
          "execution_count": 221
        }
      ]
    },
    {
      "cell_type": "markdown",
      "metadata": {
        "dc": {
          "key": "18"
        },
        "deletable": false,
        "run_control": {
          "frozen": true
        },
        "tags": [
          "context"
        ],
        "editable": false,
        "id": "ofgobevj8YYR"
      },
      "source": [
        "## 3. Getting an overview\n",
        "<p>The dataset contains the information about every single code contribution (a \"commit\") to the Linux kernel over the last 13 years. We'll first take a look at the number of authors and their commits to the repository.</p>"
      ]
    },
    {
      "cell_type": "code",
      "metadata": {
        "dc": {
          "key": "18"
        },
        "trusted": true,
        "tags": [
          "sample_code"
        ],
        "id": "ieOK7_id8YYR",
        "outputId": "4b552693-a902-46e6-db6b-31ad8487268c"
      },
      "source": [
        "# calculating number of commits\n",
        "number_of_commits = git_log.shape[0]\n",
        "\n",
        "# calculating number of authors\n",
        "number_of_authors = git_log['author'].nunique()\n",
        "\n",
        "# printing out the results\n",
        "print(\"%s authors committed %s code changes.\" % (number_of_authors, number_of_commits))"
      ],
      "execution_count": null,
      "outputs": [
        {
          "output_type": "stream",
          "text": [
            "17385 authors committed 699071 code changes.\n"
          ],
          "name": "stdout"
        }
      ]
    },
    {
      "cell_type": "markdown",
      "metadata": {
        "dc": {
          "key": "25"
        },
        "deletable": false,
        "run_control": {
          "frozen": true
        },
        "tags": [
          "context"
        ],
        "editable": false,
        "id": "h5BQDqZz8YYS"
      },
      "source": [
        "## 4. Finding the TOP 10 contributors\n",
        "<p>There are some very important people that changed the Linux kernel very often. To see if there are any bottlenecks, we take a look at the TOP 10 authors with the most commits.</p>"
      ]
    },
    {
      "cell_type": "code",
      "metadata": {
        "dc": {
          "key": "25"
        },
        "trusted": true,
        "tags": [
          "sample_code"
        ],
        "id": "aFTLSLSw8YYS",
        "outputId": "e674e959-a32b-4722-8650-e00aaa3e8fa3"
      },
      "source": [
        "# Identifying the top 10 authors\n",
        "top_10_authors = git_log['author'].value_counts(ascending=False)[:10]\n",
        "\n",
        "# Listing contents of 'top_10_authors'\n",
        "top_10_authors"
      ],
      "execution_count": null,
      "outputs": [
        {
          "output_type": "execute_result",
          "data": {
            "text/plain": [
              "Linus Torvalds           23361\n",
              "David S. Miller           9106\n",
              "Mark Brown                6802\n",
              "Takashi Iwai              6209\n",
              "Al Viro                   6006\n",
              "H Hartley Sweeten         5938\n",
              "Ingo Molnar               5344\n",
              "Mauro Carvalho Chehab     5204\n",
              "Arnd Bergmann             4890\n",
              "Greg Kroah-Hartman        4580\n",
              "Name: author, dtype: int64"
            ]
          },
          "metadata": {
            "tags": []
          },
          "execution_count": 225
        }
      ]
    },
    {
      "cell_type": "markdown",
      "metadata": {
        "dc": {
          "key": "32"
        },
        "deletable": false,
        "run_control": {
          "frozen": true
        },
        "tags": [
          "context"
        ],
        "editable": false,
        "id": "sA4uvIs88YYT"
      },
      "source": [
        "## 5. Wrangling the data\n",
        "<p>For our analysis, we want to visualize the contributions over time. For this, we use the information in the <code>timestamp</code> column to create a time series-based column.</p>"
      ]
    },
    {
      "cell_type": "code",
      "metadata": {
        "dc": {
          "key": "32"
        },
        "trusted": true,
        "tags": [
          "sample_code"
        ],
        "id": "Axi_CoiD8YYT",
        "outputId": "d55c532d-4889-4a97-bf59-7a33823fd9fb"
      },
      "source": [
        "# converting the timestamp column\n",
        "git_log.timestamp = pd.to_datetime(git_log['timestamp'], unit='s', origin='1970-01-01' )\n",
        "\n",
        "# summarizing the converted timestamp column\n",
        "git_log.timestamp.describe()"
      ],
      "execution_count": null,
      "outputs": [
        {
          "output_type": "execute_result",
          "data": {
            "text/plain": [
              "count                  699071\n",
              "unique                 668448\n",
              "top       2008-09-04 05:30:19\n",
              "freq                       99\n",
              "first     1970-01-01 00:00:01\n",
              "last      2037-04-25 08:08:26\n",
              "Name: timestamp, dtype: object"
            ]
          },
          "metadata": {
            "tags": []
          },
          "execution_count": 227
        }
      ]
    },
    {
      "cell_type": "markdown",
      "metadata": {
        "dc": {
          "key": "39"
        },
        "deletable": false,
        "run_control": {
          "frozen": true
        },
        "tags": [
          "context"
        ],
        "editable": false,
        "id": "CRXsXxej8YYU"
      },
      "source": [
        "## 6. Treating wrong timestamps\n",
        "<p>As we can see from the results above, some contributors had their operating system's time incorrectly set when they committed to the repository. We'll clean up the <code>timestamp</code> column by dropping the rows with the incorrect timestamps.</p>"
      ]
    },
    {
      "cell_type": "code",
      "metadata": {
        "dc": {
          "key": "39"
        },
        "trusted": true,
        "tags": [
          "sample_code"
        ],
        "id": "f-_e_VQm8YYU",
        "outputId": "0b79ec7a-b675-4a11-fe66-f3352768e30f"
      },
      "source": [
        "# determining the first real commit timestamp\n",
        "first_commit_timestamp = '2005-04-16 22:20:35'\n",
        "\n",
        "# determining the last sensible commit timestamp\n",
        "last_commit_timestamp = '2017-10-03 12:57:01'\n",
        "\n",
        "# filtering out wrong timestamps\n",
        "corrected_log = git_log[(git_log['timestamp']>first_commit_timestamp) & (git_log['timestamp']<last_commit_timestamp)]\n",
        "\n",
        "# summarizing the corrected timestamp column\n",
        "corrected_log.describe()\n",
        "git_log.sort_values('timestamp').tail()\n"
      ],
      "execution_count": null,
      "outputs": [
        {
          "output_type": "execute_result",
          "data": {
            "text/plain": [
              "                 timestamp          author\n",
              "0      2017-08-15 19:49:43  Linus Torvalds\n",
              "34060  2017-10-03 12:57:00    Michael Engl\n",
              "694191 2019-04-05 05:07:45       Len Brown\n",
              "589765 2030-08-14 07:56:40   Zhang, Yanmin\n",
              "525658 2037-04-25 08:08:26   Daniel Vetter"
            ],
            "text/html": [
              "<div>\n",
              "<style scoped>\n",
              "    .dataframe tbody tr th:only-of-type {\n",
              "        vertical-align: middle;\n",
              "    }\n",
              "\n",
              "    .dataframe tbody tr th {\n",
              "        vertical-align: top;\n",
              "    }\n",
              "\n",
              "    .dataframe thead th {\n",
              "        text-align: right;\n",
              "    }\n",
              "</style>\n",
              "<table border=\"1\" class=\"dataframe\">\n",
              "  <thead>\n",
              "    <tr style=\"text-align: right;\">\n",
              "      <th></th>\n",
              "      <th>timestamp</th>\n",
              "      <th>author</th>\n",
              "    </tr>\n",
              "  </thead>\n",
              "  <tbody>\n",
              "    <tr>\n",
              "      <th>0</th>\n",
              "      <td>2017-08-15 19:49:43</td>\n",
              "      <td>Linus Torvalds</td>\n",
              "    </tr>\n",
              "    <tr>\n",
              "      <th>34060</th>\n",
              "      <td>2017-10-03 12:57:00</td>\n",
              "      <td>Michael Engl</td>\n",
              "    </tr>\n",
              "    <tr>\n",
              "      <th>694191</th>\n",
              "      <td>2019-04-05 05:07:45</td>\n",
              "      <td>Len Brown</td>\n",
              "    </tr>\n",
              "    <tr>\n",
              "      <th>589765</th>\n",
              "      <td>2030-08-14 07:56:40</td>\n",
              "      <td>Zhang, Yanmin</td>\n",
              "    </tr>\n",
              "    <tr>\n",
              "      <th>525658</th>\n",
              "      <td>2037-04-25 08:08:26</td>\n",
              "      <td>Daniel Vetter</td>\n",
              "    </tr>\n",
              "  </tbody>\n",
              "</table>\n",
              "</div>"
            ]
          },
          "metadata": {
            "tags": []
          },
          "execution_count": 229
        }
      ]
    },
    {
      "cell_type": "markdown",
      "metadata": {
        "dc": {
          "key": "46"
        },
        "deletable": false,
        "run_control": {
          "frozen": true
        },
        "tags": [
          "context"
        ],
        "editable": false,
        "id": "isWjdxFz8YYV"
      },
      "source": [
        "## 7. Grouping commits per year\n",
        "<p>To find out how the development activity has increased over time, we'll group the commits by year and count them up.</p>"
      ]
    },
    {
      "cell_type": "code",
      "metadata": {
        "dc": {
          "key": "46"
        },
        "trusted": true,
        "tags": [
          "sample_code"
        ],
        "id": "ugMjdb-D8YYV",
        "outputId": "08614be1-411c-46d2-b38f-e6407c216bb8"
      },
      "source": [
        "# Counting the no. commits per year\n",
        "commits_per_year = corrected_log.groupby(pd.Grouper(key='timestamp', freq='AS')).count()\n",
        "\n",
        "# Listing the first rows\n",
        "commits_per_year.head()"
      ],
      "execution_count": null,
      "outputs": [
        {
          "output_type": "execute_result",
          "data": {
            "text/plain": [
              "            author\n",
              "timestamp         \n",
              "2005-01-01   16229\n",
              "2006-01-01   29255\n",
              "2007-01-01   33759\n",
              "2008-01-01   48847\n",
              "2009-01-01   52572"
            ],
            "text/html": [
              "<div>\n",
              "<style scoped>\n",
              "    .dataframe tbody tr th:only-of-type {\n",
              "        vertical-align: middle;\n",
              "    }\n",
              "\n",
              "    .dataframe tbody tr th {\n",
              "        vertical-align: top;\n",
              "    }\n",
              "\n",
              "    .dataframe thead th {\n",
              "        text-align: right;\n",
              "    }\n",
              "</style>\n",
              "<table border=\"1\" class=\"dataframe\">\n",
              "  <thead>\n",
              "    <tr style=\"text-align: right;\">\n",
              "      <th></th>\n",
              "      <th>author</th>\n",
              "    </tr>\n",
              "    <tr>\n",
              "      <th>timestamp</th>\n",
              "      <th></th>\n",
              "    </tr>\n",
              "  </thead>\n",
              "  <tbody>\n",
              "    <tr>\n",
              "      <th>2005-01-01</th>\n",
              "      <td>16229</td>\n",
              "    </tr>\n",
              "    <tr>\n",
              "      <th>2006-01-01</th>\n",
              "      <td>29255</td>\n",
              "    </tr>\n",
              "    <tr>\n",
              "      <th>2007-01-01</th>\n",
              "      <td>33759</td>\n",
              "    </tr>\n",
              "    <tr>\n",
              "      <th>2008-01-01</th>\n",
              "      <td>48847</td>\n",
              "    </tr>\n",
              "    <tr>\n",
              "      <th>2009-01-01</th>\n",
              "      <td>52572</td>\n",
              "    </tr>\n",
              "  </tbody>\n",
              "</table>\n",
              "</div>"
            ]
          },
          "metadata": {
            "tags": []
          },
          "execution_count": 231
        }
      ]
    },
    {
      "cell_type": "markdown",
      "metadata": {
        "dc": {
          "key": "53"
        },
        "deletable": false,
        "run_control": {
          "frozen": true
        },
        "tags": [
          "context"
        ],
        "editable": false,
        "id": "CMRfhSs38YYW"
      },
      "source": [
        "## 8. Visualizing the history of Linux\n",
        "<p>Finally, we'll make a plot out of these counts to better see how the development effort on Linux has increased over the the last few years. </p>"
      ]
    },
    {
      "cell_type": "code",
      "metadata": {
        "dc": {
          "key": "53"
        },
        "trusted": true,
        "tags": [
          "sample_code"
        ],
        "id": "OMG2A9z-8YYW",
        "outputId": "b6d5999e-3ab0-46a0-ddc3-82c0713932d6"
      },
      "source": [
        "# Setting up plotting in Jupyter notebooks\n",
        "%matplotlib inline\n",
        "\n",
        "# plot the data\n",
        "commits_per_year.plot(kind='area', title='Commits per year', legend=False)\n"
      ],
      "execution_count": null,
      "outputs": [
        {
          "output_type": "execute_result",
          "data": {
            "text/plain": [
              "<matplotlib.axes._subplots.AxesSubplot at 0x7f37b5745400>"
            ]
          },
          "metadata": {
            "tags": []
          },
          "execution_count": 233
        },
        {
          "output_type": "display_data",
          "data": {
            "text/plain": [
              "<matplotlib.figure.Figure at 0x7f37bec4d0f0>"
            ],
            "image/png": "[encoded data removed]"
          },
          "metadata": {
            "tags": []
          }
        }
      ]
    },
    {
      "cell_type": "markdown",
      "metadata": {
        "dc": {
          "key": "60"
        },
        "deletable": false,
        "run_control": {
          "frozen": true
        },
        "tags": [
          "context"
        ],
        "editable": false,
        "id": "PGLLFXdY8YYX"
      },
      "source": [
        "## 9.  Conclusion\n",
        "<p>Thanks to the solid foundation and caretaking of Linux Torvalds, many other developers are now able to contribute to the Linux kernel as well. There is no decrease of development activity at sight!</p>"
      ]
    },
    {
      "cell_type": "code",
      "metadata": {
        "dc": {
          "key": "60"
        },
        "trusted": true,
        "tags": [
          "sample_code"
        ],
        "id": "93_iOMtr8YYX"
      },
      "source": [
        "# calculating or setting the year with the most commits to Linux\n",
        "year_with_most_commits = 2016\n"
      ],
      "execution_count": null,
      "outputs": []
    }
  ]
}