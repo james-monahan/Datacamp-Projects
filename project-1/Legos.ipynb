{
  "nbformat": 4,
  "nbformat_minor": 0,
  "metadata": {
    "language_info": {
      "version": "3.5.2",
      "nbconvert_exporter": "python",
      "name": "python",
      "pygments_lexer": "ipython3",
      "file_extension": ".py",
      "mimetype": "text/x-python",
      "codemirror_mode": {
        "name": "ipython",
        "version": 3
      }
    },
    "kernelspec": {
      "language": "python",
      "name": "python3",
      "display_name": "Python 3"
    },
    "colab": {
      "name": "Legos.ipynb",
      "provenance": [],
      "include_colab_link": true
    }
  },
  "cells": [
    {
      "cell_type": "markdown",
      "metadata": {
        "id": "view-in-github",
        "colab_type": "text"
      },
      "source": [
        "<a href=\"https://colab.research.google.com/github/james-monahan/Datacamp-Projects/blob/main/project-1/Legos.ipynb\" target=\"_parent\"><img src=\"https://colab.research.google.com/assets/colab-badge.svg\" alt=\"Open In Colab\"/></a>"
      ]
    },
    {
      "cell_type": "markdown",
      "metadata": {
        "deletable": false,
        "tags": [
          "context"
        ],
        "editable": false,
        "run_control": {
          "frozen": true
        },
        "dc": {
          "key": "1d0b086e6c"
        },
        "id": "iirQ4g0l8v2K"
      },
      "source": [
        "## 1. Introduction\n",
        "<p>Everyone loves Lego (unless you ever stepped on one). Did you know by the way that \"Lego\" was derived from the Danish phrase leg godt, which means \"play well\"? Unless you speak Danish, probably not. </p>\n",
        "<p>In this project, we will analyze a fascinating dataset on every single lego block that has ever been built!</p>\n",
        "<p><img src=\"https://s3.amazonaws.com/assets.datacamp.com/production/project_10/datasets/lego-bricks.jpeg\" alt=\"lego\"></p>"
      ]
    },
    {
      "cell_type": "code",
      "metadata": {
        "tags": [
          "sample_code"
        ],
        "collapsed": true,
        "trusted": true,
        "dc": {
          "key": "1d0b086e6c"
        },
        "id": "0cwzy1w88v2N"
      },
      "source": [
        "# Nothing to do here"
      ],
      "execution_count": null,
      "outputs": []
    },
    {
      "cell_type": "markdown",
      "metadata": {
        "deletable": false,
        "tags": [
          "context"
        ],
        "editable": false,
        "run_control": {
          "frozen": true
        },
        "dc": {
          "key": "044b2cef41"
        },
        "id": "dmDQahb48v2O"
      },
      "source": [
        "## 2. Reading Data\n",
        "<p>A comprehensive database of lego blocks is provided by <a href=\"https://rebrickable.com/downloads/\">Rebrickable</a>. The data is available as csv files and the schema is shown below.</p>\n",
        "<p><img src=\"https://s3.amazonaws.com/assets.datacamp.com/production/project_10/datasets/downloads_schema.png\" alt=\"schema\"></p>\n",
        "<p>Let us start by reading in the colors data to get a sense of the diversity of lego sets!</p>"
      ]
    },
    {
      "cell_type": "code",
      "metadata": {
        "tags": [
          "sample_code"
        ],
        "trusted": true,
        "dc": {
          "key": "044b2cef41"
        },
        "colab": {
          "base_uri": "https://localhost:8080/",
          "height": 198
        },
        "id": "xNtCizJ18v2O",
        "outputId": "5a2cbb1f-67d3-453a-9c79-2576138a3659"
      },
      "source": [
        "# Import modules\n",
        "import pandas as pd\n",
        "color_data = 'https://raw.githubusercontent.com/james-monahan/Datacamp-Projects/main/project-1/colors.csv'\n",
        "# Read colors data\n",
        "colors = pd.read_csv(color_data)\n",
        "\n",
        "# Print the first few rows\n",
        "colors.head()"
      ],
      "execution_count": 14,
      "outputs": [
        {
          "output_type": "execute_result",
          "data": {
            "text/html": [
              "<div>\n",
              "<style scoped>\n",
              "    .dataframe tbody tr th:only-of-type {\n",
              "        vertical-align: middle;\n",
              "    }\n",
              "\n",
              "    .dataframe tbody tr th {\n",
              "        vertical-align: top;\n",
              "    }\n",
              "\n",
              "    .dataframe thead th {\n",
              "        text-align: right;\n",
              "    }\n",
              "</style>\n",
              "<table border=\"1\" class=\"dataframe\">\n",
              "  <thead>\n",
              "    <tr style=\"text-align: right;\">\n",
              "      <th></th>\n",
              "      <th>id</th>\n",
              "      <th>name</th>\n",
              "      <th>rgb</th>\n",
              "      <th>is_trans</th>\n",
              "    </tr>\n",
              "  </thead>\n",
              "  <tbody>\n",
              "    <tr>\n",
              "      <th>0</th>\n",
              "      <td>-1</td>\n",
              "      <td>Unknown</td>\n",
              "      <td>0033B2</td>\n",
              "      <td>f</td>\n",
              "    </tr>\n",
              "    <tr>\n",
              "      <th>1</th>\n",
              "      <td>0</td>\n",
              "      <td>Black</td>\n",
              "      <td>05131D</td>\n",
              "      <td>f</td>\n",
              "    </tr>\n",
              "    <tr>\n",
              "      <th>2</th>\n",
              "      <td>1</td>\n",
              "      <td>Blue</td>\n",
              "      <td>0055BF</td>\n",
              "      <td>f</td>\n",
              "    </tr>\n",
              "    <tr>\n",
              "      <th>3</th>\n",
              "      <td>2</td>\n",
              "      <td>Green</td>\n",
              "      <td>237841</td>\n",
              "      <td>f</td>\n",
              "    </tr>\n",
              "    <tr>\n",
              "      <th>4</th>\n",
              "      <td>3</td>\n",
              "      <td>Dark Turquoise</td>\n",
              "      <td>008F9B</td>\n",
              "      <td>f</td>\n",
              "    </tr>\n",
              "  </tbody>\n",
              "</table>\n",
              "</div>"
            ],
            "text/plain": [
              "   id            name     rgb is_trans\n",
              "0  -1         Unknown  0033B2        f\n",
              "1   0           Black  05131D        f\n",
              "2   1            Blue  0055BF        f\n",
              "3   2           Green  237841        f\n",
              "4   3  Dark Turquoise  008F9B        f"
            ]
          },
          "metadata": {
            "tags": []
          },
          "execution_count": 14
        }
      ]
    },
    {
      "cell_type": "markdown",
      "metadata": {
        "deletable": false,
        "tags": [
          "context"
        ],
        "editable": false,
        "run_control": {
          "frozen": true
        },
        "dc": {
          "key": "15c1e2ce38"
        },
        "id": "beDjXZUa8v2P"
      },
      "source": [
        "## 3. Exploring Colors\n",
        "<p>Now that we have read the <code>colors</code> data, we can start exploring it! Let us start by understanding the number of colors available.</p>"
      ]
    },
    {
      "cell_type": "code",
      "metadata": {
        "tags": [
          "sample_code"
        ],
        "trusted": true,
        "dc": {
          "key": "15c1e2ce38"
        },
        "colab": {
          "base_uri": "https://localhost:8080/"
        },
        "id": "UZeGg7Za8v2Q",
        "outputId": "0f32e15e-5b3b-4f27-f7fb-f001e5d5e217"
      },
      "source": [
        "# How many distinct colors are available?\n",
        "num_colors = colors['name'].nunique()\n",
        "print(num_colors)"
      ],
      "execution_count": 2,
      "outputs": [
        {
          "output_type": "stream",
          "text": [
            "135\n"
          ],
          "name": "stdout"
        }
      ]
    },
    {
      "cell_type": "markdown",
      "metadata": {
        "deletable": false,
        "tags": [
          "context"
        ],
        "editable": false,
        "run_control": {
          "frozen": true
        },
        "dc": {
          "key": "a5723ae5c2"
        },
        "id": "B8vunxmX8v2R"
      },
      "source": [
        "## 4. Transparent Colors in Lego Sets\n",
        "<p>The <code>colors</code> data has a column named <code>is_trans</code> that indicates whether a color is transparent or not. It would be interesting to explore the distribution of transparent vs. non-transparent colors.</p>"
      ]
    },
    {
      "cell_type": "code",
      "metadata": {
        "tags": [
          "sample_code"
        ],
        "trusted": true,
        "dc": {
          "key": "a5723ae5c2"
        },
        "colab": {
          "base_uri": "https://localhost:8080/",
          "height": 138
        },
        "id": "8cCzHSjW8v2R",
        "outputId": "bff38704-fc46-4e3a-d24c-a09a8ea168ba"
      },
      "source": [
        "# colors_summary: Distribution of colors based on transparency\n",
        "colors_summary = colors.groupby('is_trans').count()\n",
        "colors_summary"
      ],
      "execution_count": 3,
      "outputs": [
        {
          "output_type": "execute_result",
          "data": {
            "text/html": [
              "<div>\n",
              "<style scoped>\n",
              "    .dataframe tbody tr th:only-of-type {\n",
              "        vertical-align: middle;\n",
              "    }\n",
              "\n",
              "    .dataframe tbody tr th {\n",
              "        vertical-align: top;\n",
              "    }\n",
              "\n",
              "    .dataframe thead th {\n",
              "        text-align: right;\n",
              "    }\n",
              "</style>\n",
              "<table border=\"1\" class=\"dataframe\">\n",
              "  <thead>\n",
              "    <tr style=\"text-align: right;\">\n",
              "      <th></th>\n",
              "      <th>id</th>\n",
              "      <th>name</th>\n",
              "      <th>rgb</th>\n",
              "    </tr>\n",
              "    <tr>\n",
              "      <th>is_trans</th>\n",
              "      <th></th>\n",
              "      <th></th>\n",
              "      <th></th>\n",
              "    </tr>\n",
              "  </thead>\n",
              "  <tbody>\n",
              "    <tr>\n",
              "      <th>f</th>\n",
              "      <td>107</td>\n",
              "      <td>107</td>\n",
              "      <td>107</td>\n",
              "    </tr>\n",
              "    <tr>\n",
              "      <th>t</th>\n",
              "      <td>28</td>\n",
              "      <td>28</td>\n",
              "      <td>28</td>\n",
              "    </tr>\n",
              "  </tbody>\n",
              "</table>\n",
              "</div>"
            ],
            "text/plain": [
              "           id  name  rgb\n",
              "is_trans                \n",
              "f         107   107  107\n",
              "t          28    28   28"
            ]
          },
          "metadata": {
            "tags": []
          },
          "execution_count": 3
        }
      ]
    },
    {
      "cell_type": "markdown",
      "metadata": {
        "deletable": false,
        "tags": [
          "context"
        ],
        "editable": false,
        "run_control": {
          "frozen": true
        },
        "dc": {
          "key": "c9d0e58653"
        },
        "id": "2hOhO_L08v2S"
      },
      "source": [
        "## 5. Explore Lego Sets\n",
        "<p>Another interesting dataset available in this database is the <code>sets</code> data. It contains a comprehensive list of sets over the years and the number of parts that each of these sets contained. </p>\n",
        "<p><img src=\"https://imgur.com/1k4PoXs.png\" alt=\"sets_data\"></p>\n",
        "<p>Let us use this data to explore how the average number of parts in Lego sets has varied over the years.</p>"
      ]
    },
    {
      "cell_type": "code",
      "metadata": {
        "tags": [
          "sample_code"
        ],
        "trusted": true,
        "dc": {
          "key": "c9d0e58653"
        },
        "colab": {
          "base_uri": "https://localhost:8080/",
          "height": 298
        },
        "id": "wk9ABeMH8v2S",
        "outputId": "ecb5e225-ec3b-4a28-dd44-80e8832b82bf"
      },
      "source": [
        "%matplotlib inline\n",
        "sets_data = \"https://raw.githubusercontent.com/james-monahan/Datacamp-Projects/main/project-1/sets.csv\"\n",
        "# Read sets data as `sets`\n",
        "sets = pd.read_csv(sets_data)\n",
        "# Create a summary of average number of parts by year: `parts_by_year`\n",
        "parts_by_year = sets.groupby('year')['num_parts'].mean()\n",
        "# Plot trends in average number of parts by year\n",
        "parts_by_year.plot()\n"
      ],
      "execution_count": 15,
      "outputs": [
        {
          "output_type": "execute_result",
          "data": {
            "text/plain": [
              "<matplotlib.axes._subplots.AxesSubplot at 0x7f2dafe464e0>"
            ]
          },
          "metadata": {
            "tags": []
          },
          "execution_count": 15
        },
        {
          "output_type": "display_data",
          "data": {
            "image/png": "[encoded data removed]",
            "text/plain": [
              "<Figure size 432x288 with 1 Axes>"
            ]
          },
          "metadata": {
            "tags": [],
            "needs_background": "light"
          }
        }
      ]
    },
    {
      "cell_type": "markdown",
      "metadata": {
        "deletable": false,
        "tags": [
          "context"
        ],
        "editable": false,
        "run_control": {
          "frozen": true
        },
        "dc": {
          "key": "266a3f390c"
        },
        "id": "cAL2GAzV8v2T"
      },
      "source": [
        "## 6. Lego Themes Over Years\n",
        "<p>Lego blocks ship under multiple <a href=\"https://shop.lego.com/en-US/Themes\">themes</a>. Let us try to get a sense of how the number of themes shipped has varied over the years.</p>"
      ]
    },
    {
      "cell_type": "code",
      "metadata": {
        "tags": [
          "sample_code"
        ],
        "trusted": true,
        "dc": {
          "key": "266a3f390c"
        },
        "colab": {
          "base_uri": "https://localhost:8080/",
          "height": 298
        },
        "id": "RTtaUuUW8v2T",
        "outputId": "d0bb5ce7-e229-4334-bacb-aed2ae26ede6"
      },
      "source": [
        "themes_by_year = sets.groupby('year')['theme_id'].nunique()\n",
        "themes_by_year.plot()"
      ],
      "execution_count": 16,
      "outputs": [
        {
          "output_type": "execute_result",
          "data": {
            "text/plain": [
              "<matplotlib.axes._subplots.AxesSubplot at 0x7f2dafe03f98>"
            ]
          },
          "metadata": {
            "tags": []
          },
          "execution_count": 16
        },
        {
          "output_type": "display_data",
          "data": {
            "image/png": "[encoded data removed]",
            "text/plain": [
              "<Figure size 432x288 with 1 Axes>"
            ]
          },
          "metadata": {
            "tags": [],
            "needs_background": "light"
          }
        }
      ]
    },
    {
      "cell_type": "markdown",
      "metadata": {
        "deletable": false,
        "tags": [
          "context"
        ],
        "editable": false,
        "run_control": {
          "frozen": true
        },
        "dc": {
          "key": "a293e5076e"
        },
        "id": "MPFqeLdd8v2U"
      },
      "source": [
        "## 7. Wrapping It All Up!\n",
        "<p>Lego blocks offer an unlimited amount of fun across ages. We explored some interesting trends around colors, parts, and themes. </p>"
      ]
    }
  ]
}