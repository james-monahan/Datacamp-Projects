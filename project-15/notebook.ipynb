{
  "nbformat": 4,
  "nbformat_minor": 0,
  "metadata": {
    "kernelspec": {
      "display_name": "Python 3",
      "language": "python",
      "name": "python3"
    },
    "language_info": {
      "pygments_lexer": "ipython3",
      "nbconvert_exporter": "python",
      "mimetype": "text/x-python",
      "name": "python",
      "codemirror_mode": {
        "version": 3,
        "name": "ipython"
      },
      "file_extension": ".py",
      "version": "3.5.2"
    },
    "colab": {
      "name": "notebook.ipynb",
      "provenance": [],
      "include_colab_link": true
    }
  },
  "cells": [
    {
      "cell_type": "markdown",
      "metadata": {
        "id": "view-in-github",
        "colab_type": "text"
      },
      "source": [
        "<a href=\"https://colab.research.google.com/github/james-monahan/Datacamp-Projects/blob/main/project-15/notebook.ipynb\" target=\"_parent\"><img src=\"https://colab.research.google.com/assets/colab-badge.svg\" alt=\"Open In Colab\"/></a>"
      ]
    },
    {
      "cell_type": "markdown",
      "metadata": {
        "deletable": false,
        "run_control": {
          "frozen": true
        },
        "editable": false,
        "tags": [
          "context"
        ],
        "dc": {
          "key": "3"
        },
        "id": "EoL_mSEhYxfm"
      },
      "source": [
        "## 1. Tools for text processing\n",
        "<p><img style=\"float: right ; margin: 5px 20px 5px 10px; width: 45%\" src=\"https://s3.amazonaws.com/assets.datacamp.com/production/project_38/img/Moby_Dick_p510_illustration.jpg\"> </p>\n",
        "<p>What are the most frequent words in Herman Melville's novel, Moby Dick, and how often do they occur?</p>\n",
        "<p>In this notebook, we'll scrape the novel <em>Moby Dick</em> from the website <a href=\"https://www.gutenberg.org/\">Project Gutenberg</a> (which contains a large corpus of books) using the Python package <code>requests</code>. Then we'll extract words from this web data using <code>BeautifulSoup</code>. Finally, we'll dive into analyzing the distribution of words using the Natural Language ToolKit (<code>nltk</code>). </p>\n",
        "<p>The <em>Data Science pipeline</em> we'll build in this notebook can be used to visualize the word frequency distributions of any novel that you can find on Project Gutenberg. The natural language processing tools used here apply to much of the data that data scientists encounter as a vast proportion of the world's data is unstructured data and includes a great deal of text.</p>\n",
        "<p>Let's start by loading in the three main Python packages we are going to use.</p>"
      ]
    },
    {
      "cell_type": "code",
      "metadata": {
        "collapsed": true,
        "trusted": true,
        "tags": [
          "sample_code"
        ],
        "dc": {
          "key": "3"
        },
        "colab": {
          "base_uri": "https://localhost:8080/"
        },
        "id": "iYUlr9H0Yxfp",
        "outputId": "b7708234-71dd-4583-b2a1-2c11a6ecb452"
      },
      "source": [
        "# Importing requests, BeautifulSoup and nltk\n",
        "import requests\n",
        "from bs4 import BeautifulSoup\n",
        "import nltk\n",
        "nltk.download('stopwords')"
      ],
      "execution_count": 7,
      "outputs": [
        {
          "output_type": "stream",
          "text": [
            "[nltk_data] Downloading package stopwords to /root/nltk_data...\n",
            "[nltk_data]   Unzipping corpora/stopwords.zip.\n"
          ],
          "name": "stdout"
        },
        {
          "output_type": "execute_result",
          "data": {
            "text/plain": [
              "True"
            ]
          },
          "metadata": {
            "tags": []
          },
          "execution_count": 7
        }
      ]
    },
    {
      "cell_type": "markdown",
      "metadata": {
        "deletable": false,
        "run_control": {
          "frozen": true
        },
        "editable": false,
        "tags": [
          "context"
        ],
        "dc": {
          "key": "10"
        },
        "id": "XqkD7exvYxfq"
      },
      "source": [
        "## 2. Request Moby Dick\n",
        "<p>To analyze Moby Dick, we need to get the contents of Moby Dick from <em>somewhere</em>. Luckily, the text is freely available online at Project Gutenberg as an HTML file: https://www.gutenberg.org/files/2701/2701-h/2701-h.htm .</p>\n",
        "<p><strong>Note</strong> that HTML stands for Hypertext Markup Language and is the standard markup language for the web.</p>\n",
        "<p>To fetch the HTML file with Moby Dick we're going to use the <code>request</code> package to make a <code>GET</code> request for the website, which means we're <em>getting</em> data from it. This is what you're doing through a browser when visiting a webpage, but now we're getting the requested page directly into Python instead. </p>"
      ]
    },
    {
      "cell_type": "code",
      "metadata": {
        "trusted": true,
        "tags": [
          "sample_code"
        ],
        "dc": {
          "key": "10"
        },
        "colab": {
          "base_uri": "https://localhost:8080/",
          "height": 165
        },
        "id": "dQh1xVkGYxfr",
        "outputId": "3df602fa-4822-40a9-dd25-dcea44599744"
      },
      "source": [
        "# Getting the Moby Dick HTML \n",
        "r = requests.get('https://s3.amazonaws.com/assets.datacamp.com/production/project_147/datasets/2701-h.htm')\n",
        "\n",
        "# Setting the correct text encoding of the HTML page\n",
        "r.encoding = 'utf-8'\n",
        "\n",
        "# Extracting the HTML from the request object\n",
        "html = r.text\n",
        "\n",
        "# Printing the first 2000 characters in html\n",
        "html[0:2000]\n"
      ],
      "execution_count": 2,
      "outputs": [
        {
          "output_type": "execute_result",
          "data": {
            "application/vnd.google.colaboratory.intrinsic+json": {
              "type": "string"
            },
            "text/plain": [
              "'<?xml version=\"1.0\" encoding=\"utf-8\"?>\\r\\n\\r\\n<!DOCTYPE html\\r\\n   PUBLIC \"-//W3C//DTD XHTML 1.0 Strict//EN\"\\r\\n   \"http://www.w3.org/TR/xhtml1/DTD/xhtml1-strict.dtd\" >\\r\\n\\r\\n<html xmlns=\"http://www.w3.org/1999/xhtml\" lang=\"en\">\\r\\n  <head>\\r\\n    <title>\\r\\n      Moby Dick; Or the Whale, by Herman Melville\\r\\n    </title>\\r\\n    <style type=\"text/css\" xml:space=\"preserve\">\\r\\n\\r\\n    body { background:#faebd0; color:black; margin-left:15%; margin-right:15%; text-align:justify }\\r\\n    P { text-indent: 1em; margin-top: .25em; margin-bottom: .25em; }\\r\\n    H1,H2,H3,H4,H5,H6 { text-align: center; margin-left: 15%; margin-right: 15%; }\\r\\n    hr  { width: 50%; text-align: center;}\\r\\n    .foot { margin-left: 20%; margin-right: 20%; text-align: justify; text-indent: -3em; font-size: 90%; }\\r\\n    blockquote {font-size: 100%; margin-left: 0%; margin-right: 0%;}\\r\\n    .mynote    {background-color: #DDE; color: #000; padding: .5em; margin-left: 10%; margin-right: 10%; font-family: sans-serif; font-size: 95%;}\\r\\n    .toc       { margin-left: 10%; margin-bottom: .75em;}\\r\\n    .toc2      { margin-left: 20%;}\\r\\n    div.fig    { display:block; margin:0 auto; text-align:center; }\\r\\n    div.middle { margin-left: 20%; margin-right: 20%; text-align: justify; }\\r\\n    .figleft   {float: left; margin-left: 0%; margin-right: 1%;}\\r\\n    .figright  {float: right; margin-right: 0%; margin-left: 1%;}\\r\\n    .pagenum   {display:inline; font-size: 70%; font-style:normal;\\r\\n               margin: 0; padding: 0; position: absolute; right: 1%;\\r\\n               text-align: right;}\\r\\n    pre        { font-family: times new roman; font-size: 100%; margin-left: 10%;}\\r\\n\\r\\n    table      {margin-left: 10%;}\\r\\n\\r\\na:link {color:blue;\\r\\n\\t\\ttext-decoration:none}\\r\\nlink {color:blue;\\r\\n\\t\\ttext-decoration:none}\\r\\na:visited {color:blue;\\r\\n\\t\\ttext-decoration:none}\\r\\na:hover {color:red}\\r\\n\\r\\n</style>\\r\\n  </head>\\r\\n  <body>\\r\\n<pre xml:space=\"preserve\">\\r\\n\\r\\nThe Project Gutenberg EBook of Moby Dick; or The Whale, by Herman Melville\\r\\n\\r\\nThis eBook is for the use of anyone anywh'"
            ]
          },
          "metadata": {
            "tags": []
          },
          "execution_count": 2
        }
      ]
    },
    {
      "cell_type": "markdown",
      "metadata": {
        "deletable": false,
        "run_control": {
          "frozen": true
        },
        "editable": false,
        "tags": [
          "context"
        ],
        "dc": {
          "key": "17"
        },
        "id": "OKiak00UYxfs"
      },
      "source": [
        "## 3. Get the text from the HTML\n",
        "<p>This HTML is not quite what we want. However, it does <em>contain</em> what we want: the text of <em>Moby Dick</em>. What we need to do now is <em>wrangle</em> this HTML to extract the text of the novel. For this we'll use the package <code>BeautifulSoup</code>.</p>\n",
        "<p>Firstly, a word on the name of the package: Beautiful Soup? In web development, the term \"tag soup\" refers to structurally or syntactically incorrect HTML code written for a web page. What Beautiful Soup does best is to make tag soup beautiful again and to extract information from it with ease! In fact, the main object created and queried when using this package is called <code>BeautifulSoup</code>. After creating the soup, we can use its <code>.get_text()</code> method to extract the text.</p>"
      ]
    },
    {
      "cell_type": "code",
      "metadata": {
        "trusted": true,
        "tags": [
          "sample_code"
        ],
        "dc": {
          "key": "17"
        },
        "colab": {
          "base_uri": "https://localhost:8080/",
          "height": 165
        },
        "id": "tCwAOoPtYxfz",
        "outputId": "ef842112-3b7f-4e64-e7e3-39cee5f9765a"
      },
      "source": [
        "# Creating a BeautifulSoup object from the HTML\n",
        "soup = BeautifulSoup(html)\n",
        "\n",
        "# Getting the text out of the soup\n",
        "text = soup.get_text()\n",
        "\n",
        "# Printing out text between characters 32000 and 34000\n",
        "text[32000:34000]\n"
      ],
      "execution_count": 3,
      "outputs": [
        {
          "output_type": "execute_result",
          "data": {
            "application/vnd.google.colaboratory.intrinsic+json": {
              "type": "string"
            },
            "text/plain": [
              "'which the beech tree\\r\\n        extended its branches.” —Darwin’s Voyage of a Naturalist.\\r\\n      \\n\\r\\n        “‘Stern all!’ exclaimed the mate, as upon turning his head, he saw the\\r\\n        distended jaws of a large Sperm Whale close to the head of the boat,\\r\\n        threatening it with instant destruction;—‘Stern all, for your\\r\\n        lives!’” —Wharton the Whale Killer.\\r\\n      \\n\\r\\n        “So be cheery, my lads, let your hearts never fail, While the bold\\r\\n        harpooneer is striking the whale!” —Nantucket Song.\\r\\n      \\n\\r\\n     “Oh, the rare old Whale, mid storm and gale\\r\\n     In his ocean home will be\\r\\n     A giant in might, where might is right,\\r\\n     And King of the boundless sea.”\\r\\n      —Whale Song.\\r\\n\\n\\n\\n\\n\\n \\n\\n\\n\\n\\n\\r\\n      CHAPTER 1. Loomings.\\r\\n    \\n\\r\\n      Call me Ishmael. Some years ago—never mind how long precisely—having\\r\\n      little or no money in my purse, and nothing particular to interest me on\\r\\n      shore, I thought I would sail about a little and see the watery part of\\r\\n      the world. It is a way I have of driving off the spleen and regulating the\\r\\n      circulation. Whenever I find myself growing grim about the mouth; whenever\\r\\n      it is a damp, drizzly November in my soul; whenever I find myself\\r\\n      involuntarily pausing before coffin warehouses, and bringing up the rear\\r\\n      of every funeral I meet; and especially whenever my hypos get such an\\r\\n      upper hand of me, that it requires a strong moral principle to prevent me\\r\\n      from deliberately stepping into the street, and methodically knocking\\r\\n      people’s hats off—then, I account it high time to get to sea as soon\\r\\n      as I can. This is my substitute for pistol and ball. With a philosophical\\r\\n      flourish Cato throws himself upon his sword; I quietly take to the ship.\\r\\n      There is nothing surprising in this. If they but knew it, almost all men\\r\\n      in their degree, some time or other, cherish very nearly the same feelings\\r\\n      towards the ocean with me.\\r\\n    \\n\\r\\n      There '"
            ]
          },
          "metadata": {
            "tags": []
          },
          "execution_count": 3
        }
      ]
    },
    {
      "cell_type": "markdown",
      "metadata": {
        "deletable": false,
        "run_control": {
          "frozen": true
        },
        "editable": false,
        "tags": [
          "context"
        ],
        "dc": {
          "key": "24"
        },
        "id": "cXrjwlCKYxf0"
      },
      "source": [
        "## 4. Extract the words\n",
        "<p>We now have the text of the novel! There is some unwanted stuff at the start and some unwanted stuff at the end. We could remove it, but this content is so much smaller in amount than the text of Moby Dick that, to a first approximation, it is okay to leave it in.</p>\n",
        "<p>Now that we have the text of interest, it's time to count how many times each word appears, and for this we'll use <code>nltk</code> – the Natural Language Toolkit. We'll start by tokenizing the text, that is, remove everything that isn't a word (whitespace, punctuation, etc.) and then split the text into a list of words.</p>"
      ]
    },
    {
      "cell_type": "code",
      "metadata": {
        "trusted": true,
        "tags": [
          "sample_code"
        ],
        "dc": {
          "key": "24"
        },
        "colab": {
          "base_uri": "https://localhost:8080/"
        },
        "id": "EuSlqbguYxgE",
        "outputId": "de2e6a0b-59c8-47c0-d750-1b3073143dab"
      },
      "source": [
        "# Creating a tokenizer\n",
        "tokenizer = nltk.tokenize.RegexpTokenizer('\\w+')\n",
        "\n",
        "# Tokenizing the text\n",
        "tokens = tokenizer.tokenize(text)\n",
        "\n",
        "# Printing out the first 8 words / tokens \n",
        "tokens[:8]"
      ],
      "execution_count": 4,
      "outputs": [
        {
          "output_type": "execute_result",
          "data": {
            "text/plain": [
              "['Moby', 'Dick', 'Or', 'the', 'Whale', 'by', 'Herman', 'Melville']"
            ]
          },
          "metadata": {
            "tags": []
          },
          "execution_count": 4
        }
      ]
    },
    {
      "cell_type": "markdown",
      "metadata": {
        "deletable": false,
        "run_control": {
          "frozen": true
        },
        "editable": false,
        "tags": [
          "context"
        ],
        "dc": {
          "key": "31"
        },
        "id": "_MCeXCErYxgF"
      },
      "source": [
        "## 5. Make the words lowercase\n",
        "<p>OK! We're nearly there. Note that in the above 'Or' has a capital 'O' and that in other places it may not, but both 'Or' and 'or' should be counted as the same word. For this reason, we should build a list of all words in <em>Moby Dick</em> in which all capital letters have been made lower case.</p>"
      ]
    },
    {
      "cell_type": "code",
      "metadata": {
        "trusted": true,
        "tags": [
          "sample_code"
        ],
        "dc": {
          "key": "31"
        },
        "colab": {
          "base_uri": "https://localhost:8080/"
        },
        "id": "11EdMlT3YxgF",
        "outputId": "812e7c9f-f2be-4347-e53e-8e431f65fcb9"
      },
      "source": [
        "# A new list to hold the lowercased words\n",
        "words = []\n",
        "\n",
        "# Looping through the tokens and make them lower case\n",
        "for word in tokens:\n",
        "    words.append(word.lower())\n",
        "\n",
        "# Printing out the first 8 words / tokens \n",
        "words[:8]"
      ],
      "execution_count": 5,
      "outputs": [
        {
          "output_type": "execute_result",
          "data": {
            "text/plain": [
              "['moby', 'dick', 'or', 'the', 'whale', 'by', 'herman', 'melville']"
            ]
          },
          "metadata": {
            "tags": []
          },
          "execution_count": 5
        }
      ]
    },
    {
      "cell_type": "markdown",
      "metadata": {
        "deletable": false,
        "run_control": {
          "frozen": true
        },
        "editable": false,
        "tags": [
          "context"
        ],
        "dc": {
          "key": "38"
        },
        "id": "nhjYMwN2YxgG"
      },
      "source": [
        "## 6. Load in stop words\n",
        "<p>It is common practice to remove words that appear a lot in the English language such as 'the', 'of' and 'a' because they're not so interesting. Such words are known as <em>stop words</em>. The package <code>nltk</code> includes a good list of stop words in English that we can use.</p>"
      ]
    },
    {
      "cell_type": "code",
      "metadata": {
        "trusted": true,
        "tags": [
          "sample_code"
        ],
        "dc": {
          "key": "38"
        },
        "colab": {
          "base_uri": "https://localhost:8080/"
        },
        "id": "K9sYaAvSYxgG",
        "outputId": "18be4a73-a48c-46b1-8b41-2653bf4774c6"
      },
      "source": [
        "#nltk.download('stopwords') already done\n",
        "# Getting the English stop words from nltk\n",
        "sw = nltk.corpus.stopwords.words('english')\n",
        "\n",
        "# Printing out the first eight stop words\n",
        "sw[:8]"
      ],
      "execution_count": 8,
      "outputs": [
        {
          "output_type": "execute_result",
          "data": {
            "text/plain": [
              "['i', 'me', 'my', 'myself', 'we', 'our', 'ours', 'ourselves']"
            ]
          },
          "metadata": {
            "tags": []
          },
          "execution_count": 8
        }
      ]
    },
    {
      "cell_type": "markdown",
      "metadata": {
        "deletable": false,
        "run_control": {
          "frozen": true
        },
        "editable": false,
        "tags": [
          "context"
        ],
        "dc": {
          "key": "45"
        },
        "id": "hyzdExYgYxgH"
      },
      "source": [
        "## 7. Remove stop words in Moby Dick\n",
        "<p>We now want to create a new list with all <code>words</code> in Moby Dick, except those that are stop words (that is, those words listed in <code>sw</code>). One way to get this list is to loop over all elements of <code>words</code> and add each word to a new list if they are <em>not</em> in <code>sw</code>.</p>"
      ]
    },
    {
      "cell_type": "code",
      "metadata": {
        "trusted": true,
        "tags": [
          "sample_code"
        ],
        "dc": {
          "key": "45"
        },
        "colab": {
          "base_uri": "https://localhost:8080/"
        },
        "id": "mJHQwVrQYxgH",
        "outputId": "432cfc97-1c64-4efe-eecd-4479d4a1f810"
      },
      "source": [
        "# A new list to hold Moby Dick with No Stop words\n",
        "words_ns = []\n",
        "\n",
        "# Appending to words_ns all words that are in words but not in sw\n",
        "for word in words:\n",
        "    if word not in sw:\n",
        "        words_ns.append(word)\n",
        "\n",
        "# Printing the first 5 words_ns to check that stop words are gone\n",
        "words_ns[:5]"
      ],
      "execution_count": 9,
      "outputs": [
        {
          "output_type": "execute_result",
          "data": {
            "text/plain": [
              "['moby', 'dick', 'whale', 'herman', 'melville']"
            ]
          },
          "metadata": {
            "tags": []
          },
          "execution_count": 9
        }
      ]
    },
    {
      "cell_type": "markdown",
      "metadata": {
        "deletable": false,
        "run_control": {
          "frozen": true
        },
        "editable": false,
        "tags": [
          "context"
        ],
        "dc": {
          "key": "52"
        },
        "id": "rmr2VhHRYxgI"
      },
      "source": [
        "## 8. We have the answer\n",
        "<p>Our original question was:</p>\n",
        "<blockquote>\n",
        "  <p>What are the most frequent words in Herman Melville's novel Moby Dick and how often do they occur?</p>\n",
        "</blockquote>\n",
        "<p>We are now ready to answer that! Let's create a word frequency distribution plot using <code>nltk</code>. </p>"
      ]
    },
    {
      "cell_type": "code",
      "metadata": {
        "trusted": true,
        "tags": [
          "sample_code"
        ],
        "dc": {
          "key": "52"
        },
        "colab": {
          "base_uri": "https://localhost:8080/",
          "height": 320
        },
        "id": "1HnC5ihCYxgI",
        "outputId": "ba041f8e-db21-49fd-fba0-367c5aea4684"
      },
      "source": [
        "# This command display figures inline\n",
        "%matplotlib inline\n",
        "\n",
        "# Creating the word frequency distribution\n",
        "freqdist = nltk.FreqDist(words_ns)\n",
        "freqdist.most_common(50)\n",
        "# Plotting the word frequency distribution\n",
        "freqdist.plot(50)"
      ],
      "execution_count": 10,
      "outputs": [
        {
          "output_type": "display_data",
          "data": {
            "image/png": "[encoded data removed]",
            "text/plain": [
              "<Figure size 432x288 with 1 Axes>"
            ]
          },
          "metadata": {
            "tags": [],
            "needs_background": "light"
          }
        }
      ]
    },
    {
      "cell_type": "markdown",
      "metadata": {
        "deletable": false,
        "run_control": {
          "frozen": true
        },
        "editable": false,
        "tags": [
          "context"
        ],
        "dc": {
          "key": "59"
        },
        "id": "0pLw2q6NYxgJ"
      },
      "source": [
        "## 9. The most common word\n",
        "<p>Nice! The frequency distribution plot above is the answer to our question. </p>\n",
        "<p>The natural language processing skills we used in this notebook are also applicable to much of the data that Data Scientists encounter as the vast proportion of the world's data is unstructured data and includes a great deal of text. </p>\n",
        "<p>So, what word turned out to (<em>not surprisingly</em>) be the most common word in Moby Dick?</p>"
      ]
    },
    {
      "cell_type": "code",
      "metadata": {
        "collapsed": true,
        "trusted": true,
        "tags": [
          "sample_code"
        ],
        "dc": {
          "key": "59"
        },
        "id": "8ux9G4BtYxgJ"
      },
      "source": [
        "# What's the most common word in Moby Dick?\n",
        "most_common_word = 'whale'"
      ],
      "execution_count": 11,
      "outputs": []
    }
  ]
}