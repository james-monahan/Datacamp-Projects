{
  "nbformat": 4,
  "nbformat_minor": 0,
  "metadata": {
    "language_info": {
      "name": "python",
      "version": "3.5.2",
      "nbconvert_exporter": "python",
      "codemirror_mode": {
        "name": "ipython",
        "version": 3
      },
      "file_extension": ".py",
      "pygments_lexer": "ipython3",
      "mimetype": "text/x-python"
    },
    "kernelspec": {
      "name": "python3",
      "language": "python",
      "display_name": "Python 3"
    },
    "colab": {
      "name": "Gender_Pred.ipynb",
      "provenance": [],
      "include_colab_link": true
    }
  },
  "cells": [
    {
      "cell_type": "markdown",
      "metadata": {
        "id": "view-in-github",
        "colab_type": "text"
      },
      "source": [
        "<a href=\"https://colab.research.google.com/github/james-monahan/Datacamp-Projects/blob/main/project-9/Gender_Pred.ipynb\" target=\"_parent\"><img src=\"https://colab.research.google.com/assets/colab-badge.svg\" alt=\"Open In Colab\"/></a>"
      ]
    },
    {
      "cell_type": "markdown",
      "metadata": {
        "editable": false,
        "dc": {
          "key": "3"
        },
        "deletable": false,
        "run_control": {
          "frozen": true
        },
        "tags": [
          "context"
        ],
        "id": "-vSHA_vyr_-4"
      },
      "source": [
        "## 1. Sound it out!\n",
        "<p>Grey and Gray. Colour and Color. Words like these have been the cause of many heated arguments between Brits and Americans. Accents (and jokes) aside, there are many words that are pronounced the same way but have different spellings. While it is easy for us to realize their equivalence, basic programming commands will fail to equate such two strings. </p>\n",
        "<p>More extreme than word spellings are names because people have more flexibility in choosing to spell a name in a certain way. To some extent, tradition sometimes governs the way a name is spelled, which limits the number of variations of any given English name. But if we consider global names and their associated English spellings, you can only imagine how many ways they can be spelled out. </p>\n",
        "<p>One way to tackle this challenge is to write a program that checks if two strings sound the same, instead of checking for equivalence in spellings. We'll do that here using fuzzy name matching.</p>"
      ]
    },
    {
      "cell_type": "code",
      "metadata": {
        "dc": {
          "key": "3"
        },
        "tags": [
          "sample_code"
        ],
        "trusted": true,
        "id": "7r912epEr_-8",
        "outputId": "cb5b0d67-7d18-4970-8b1b-b40db0c994fa"
      },
      "source": [
        "# Importing the fuzzy package\n",
        "import fuzzy\n",
        "\n",
        "# Exploring the output of fuzzy.nysiis\n",
        "fuzzy.nysiis('tommorrow')\n",
        "\n",
        "# Testing equivalence of similar sounding words\n",
        "fuzzy.nysiis('tommorrow') == fuzzy.nysiis('tomorrow')"
      ],
      "execution_count": null,
      "outputs": [
        {
          "output_type": "execute_result",
          "data": {
            "text/plain": [
              "True"
            ]
          },
          "metadata": {
            "tags": []
          },
          "execution_count": 148
        }
      ]
    },
    {
      "cell_type": "markdown",
      "metadata": {
        "editable": false,
        "dc": {
          "key": "10"
        },
        "deletable": false,
        "run_control": {
          "frozen": true
        },
        "tags": [
          "context"
        ],
        "id": "m0Xa06mQr_-_"
      },
      "source": [
        "## 2. Authoring the authors\n",
        "<p>The New York Times puts out a weekly list of best-selling books from different genres, and which has been published since the 1930’s.  We’ll focus on Children’s Picture Books, and analyze the gender distribution of authors to see if there have been changes over time. We'll begin by reading in the data on the best selling authors from 2008 to 2017.</p>"
      ]
    },
    {
      "cell_type": "code",
      "metadata": {
        "dc": {
          "key": "10"
        },
        "tags": [
          "sample_code"
        ],
        "trusted": true,
        "id": "YF1hZ_pRr__A",
        "outputId": "06369140-415f-495b-e6aa-4869ec93ca50"
      },
      "source": [
        "# Importing the pandas module\n",
        "import pandas as pd\n",
        "\n",
        "# Reading in datasets/nytkids_yearly.csv, which is semicolon delimited.\n",
        "author_df = pd.read_csv('datasets/nytkids_yearly.csv', delimiter=';')\n",
        "\n",
        "# Looping through author_df['Author'] to extract the authors first names\n",
        "first_name = []\n",
        "for name in author_df['Author']:\n",
        "    x = name.split(' ')\n",
        "    first_name.append(x[0])\n",
        "\n",
        "# Adding first_name as a column to author_df\n",
        "author_df['first_name'] = first_name\n",
        "\n",
        "# Checking out the first few rows of author_df\n",
        "author_df.head()"
      ],
      "execution_count": null,
      "outputs": [
        {
          "output_type": "execute_result",
          "data": {
            "text/plain": [
              "   Year                        Book Title                 Author  \\\n",
              "0  2017                DRAGONS LOVE TACOS             Adam Rubin   \n",
              "1  2017  THE WONDERFUL THINGS YOU WILL BE  Emily Winfield Martin   \n",
              "2  2017          THE DAY THE CRAYONS QUIT           Drew Daywalt   \n",
              "3  2017            ROSIE REVERE, ENGINEER           Andrea Beaty   \n",
              "4  2017              ADA TWIST, SCIENTIST           Andrea Beaty   \n",
              "\n",
              "   Besteller this year first_name  \n",
              "0                   49       Adam  \n",
              "1                   48      Emily  \n",
              "2                   44       Drew  \n",
              "3                   38     Andrea  \n",
              "4                   28     Andrea  "
            ],
            "text/html": [
              "<div>\n",
              "<style scoped>\n",
              "    .dataframe tbody tr th:only-of-type {\n",
              "        vertical-align: middle;\n",
              "    }\n",
              "\n",
              "    .dataframe tbody tr th {\n",
              "        vertical-align: top;\n",
              "    }\n",
              "\n",
              "    .dataframe thead th {\n",
              "        text-align: right;\n",
              "    }\n",
              "</style>\n",
              "<table border=\"1\" class=\"dataframe\">\n",
              "  <thead>\n",
              "    <tr style=\"text-align: right;\">\n",
              "      <th></th>\n",
              "      <th>Year</th>\n",
              "      <th>Book Title</th>\n",
              "      <th>Author</th>\n",
              "      <th>Besteller this year</th>\n",
              "      <th>first_name</th>\n",
              "    </tr>\n",
              "  </thead>\n",
              "  <tbody>\n",
              "    <tr>\n",
              "      <th>0</th>\n",
              "      <td>2017</td>\n",
              "      <td>DRAGONS LOVE TACOS</td>\n",
              "      <td>Adam Rubin</td>\n",
              "      <td>49</td>\n",
              "      <td>Adam</td>\n",
              "    </tr>\n",
              "    <tr>\n",
              "      <th>1</th>\n",
              "      <td>2017</td>\n",
              "      <td>THE WONDERFUL THINGS YOU WILL BE</td>\n",
              "      <td>Emily Winfield Martin</td>\n",
              "      <td>48</td>\n",
              "      <td>Emily</td>\n",
              "    </tr>\n",
              "    <tr>\n",
              "      <th>2</th>\n",
              "      <td>2017</td>\n",
              "      <td>THE DAY THE CRAYONS QUIT</td>\n",
              "      <td>Drew Daywalt</td>\n",
              "      <td>44</td>\n",
              "      <td>Drew</td>\n",
              "    </tr>\n",
              "    <tr>\n",
              "      <th>3</th>\n",
              "      <td>2017</td>\n",
              "      <td>ROSIE REVERE, ENGINEER</td>\n",
              "      <td>Andrea Beaty</td>\n",
              "      <td>38</td>\n",
              "      <td>Andrea</td>\n",
              "    </tr>\n",
              "    <tr>\n",
              "      <th>4</th>\n",
              "      <td>2017</td>\n",
              "      <td>ADA TWIST, SCIENTIST</td>\n",
              "      <td>Andrea Beaty</td>\n",
              "      <td>28</td>\n",
              "      <td>Andrea</td>\n",
              "    </tr>\n",
              "  </tbody>\n",
              "</table>\n",
              "</div>"
            ]
          },
          "metadata": {
            "tags": []
          },
          "execution_count": 150
        }
      ]
    },
    {
      "cell_type": "markdown",
      "metadata": {
        "editable": false,
        "dc": {
          "key": "17"
        },
        "deletable": false,
        "run_control": {
          "frozen": true
        },
        "tags": [
          "context"
        ],
        "id": "rAzedz5Cr__B"
      },
      "source": [
        "## 3. It's time to bring on the phonics... _again_!\n",
        "<p>When we were young children, we were taught to read using phonics; sounding out the letters that compose words. So let's relive history and do that again, but using python this time. We will now create a new column or list that contains the phonetic equivalent of every first name that we just extracted. </p>\n",
        "<p>To make sure we're on the right track, let's compare the number of unique values in the <code>first_name</code> column and the number of unique values in the nysiis coded column. As a rule of thumb, the number of unique nysiis first names should be less than or equal to the number of actual first names.</p>"
      ]
    },
    {
      "cell_type": "code",
      "metadata": {
        "dc": {
          "key": "17"
        },
        "tags": [
          "sample_code"
        ],
        "trusted": true,
        "id": "GzsNpb48r__C",
        "outputId": "7b9230a9-e7b8-422b-a5d8-aae21478c654"
      },
      "source": [
        "# Importing numpy\n",
        "import numpy as np\n",
        "\n",
        "# Looping through author's first names to create the nysiis (fuzzy) equivalent\n",
        "nysiis_name = []\n",
        "for name in author_df['first_name']:\n",
        "    nysiis_name.append(fuzzy.nysiis(name))\n",
        "\n",
        "# Adding nysiis_name as a column to author_df\n",
        "author_df['nysiis_name'] = nysiis_name\n",
        "\n",
        "# Printing out the difference between unique firstnames and unique nysiis_names:\n",
        "author_df['first_name'].nunique() - author_df['nysiis_name'].nunique()"
      ],
      "execution_count": null,
      "outputs": [
        {
          "output_type": "execute_result",
          "data": {
            "text/plain": [
              "25"
            ]
          },
          "metadata": {
            "tags": []
          },
          "execution_count": 152
        }
      ]
    },
    {
      "cell_type": "markdown",
      "metadata": {
        "editable": false,
        "dc": {
          "key": "24"
        },
        "deletable": false,
        "run_control": {
          "frozen": true
        },
        "tags": [
          "context"
        ],
        "id": "k3psw_0kr__C"
      },
      "source": [
        "## 4. The inbetweeners\n",
        "<p>We'll use <code>babynames_nysiis.csv</code>, a dataset that is derived from <a href=\"https://www.ssa.gov/oact/babynames/limits.html\">the Social Security Administration’s baby name data</a>, to identify author genders. The dataset contains unique NYSIIS versions of baby names, and also includes the percentage of times the name appeared as a female name (<code>perc_female</code>) and the percentage of times it appeared as a male name (<code>perc_male</code>). </p>\n",
        "<p>We'll use this data to create a list of <code>gender</code>. Let's make the following simplifying assumption: For each name, if <code>perc_female</code> is greater than <code>perc_male</code> then assume the name is female, if <code>perc_female</code> is less than <code>perc_male</code> then assume it is a male name, and if the percentages are equal then it's a \"neutral\" name.</p>"
      ]
    },
    {
      "cell_type": "code",
      "metadata": {
        "dc": {
          "key": "24"
        },
        "tags": [
          "sample_code"
        ],
        "trusted": true,
        "id": "HFpJDlqRr__D",
        "outputId": "8f35acde-a821-40db-9da5-ee3d14d7f214"
      },
      "source": [
        "# Reading in datasets/babynames_nysiis.csv, which is semicolon delimited.\n",
        "babies_df = pd.read_csv('datasets/babynames_nysiis.csv', sep=';')\n",
        "\n",
        "# Looping through babies_df to and filling up gender\n",
        "gender = []\n",
        "\n",
        "for item in babies_df['perc_male']:\n",
        "    if item > 50:\n",
        "        gender.append('M')\n",
        "    elif item < 50:\n",
        "        gender.append('F')\n",
        "    else:\n",
        "        gender.append('N')\n",
        "# Adding a gender column to babies_df\n",
        "babies_df['gender'] = gender\n",
        "\n",
        "# Printing out the first few rows of babies_df\n",
        "\n",
        "babies_df.head()"
      ],
      "execution_count": null,
      "outputs": [
        {
          "output_type": "execute_result",
          "data": {
            "text/plain": [
              "  babynysiis  perc_female  perc_male gender\n",
              "0        NaN        62.50      37.50      F\n",
              "1        RAX        63.64      36.36      F\n",
              "2       ESAR        44.44      55.56      M\n",
              "3      DJANG         0.00     100.00      M\n",
              "4     PARCAL        25.00      75.00      M"
            ],
            "text/html": [
              "<div>\n",
              "<style scoped>\n",
              "    .dataframe tbody tr th:only-of-type {\n",
              "        vertical-align: middle;\n",
              "    }\n",
              "\n",
              "    .dataframe tbody tr th {\n",
              "        vertical-align: top;\n",
              "    }\n",
              "\n",
              "    .dataframe thead th {\n",
              "        text-align: right;\n",
              "    }\n",
              "</style>\n",
              "<table border=\"1\" class=\"dataframe\">\n",
              "  <thead>\n",
              "    <tr style=\"text-align: right;\">\n",
              "      <th></th>\n",
              "      <th>babynysiis</th>\n",
              "      <th>perc_female</th>\n",
              "      <th>perc_male</th>\n",
              "      <th>gender</th>\n",
              "    </tr>\n",
              "  </thead>\n",
              "  <tbody>\n",
              "    <tr>\n",
              "      <th>0</th>\n",
              "      <td>NaN</td>\n",
              "      <td>62.50</td>\n",
              "      <td>37.50</td>\n",
              "      <td>F</td>\n",
              "    </tr>\n",
              "    <tr>\n",
              "      <th>1</th>\n",
              "      <td>RAX</td>\n",
              "      <td>63.64</td>\n",
              "      <td>36.36</td>\n",
              "      <td>F</td>\n",
              "    </tr>\n",
              "    <tr>\n",
              "      <th>2</th>\n",
              "      <td>ESAR</td>\n",
              "      <td>44.44</td>\n",
              "      <td>55.56</td>\n",
              "      <td>M</td>\n",
              "    </tr>\n",
              "    <tr>\n",
              "      <th>3</th>\n",
              "      <td>DJANG</td>\n",
              "      <td>0.00</td>\n",
              "      <td>100.00</td>\n",
              "      <td>M</td>\n",
              "    </tr>\n",
              "    <tr>\n",
              "      <th>4</th>\n",
              "      <td>PARCAL</td>\n",
              "      <td>25.00</td>\n",
              "      <td>75.00</td>\n",
              "      <td>M</td>\n",
              "    </tr>\n",
              "  </tbody>\n",
              "</table>\n",
              "</div>"
            ]
          },
          "metadata": {
            "tags": []
          },
          "execution_count": 154
        }
      ]
    },
    {
      "cell_type": "markdown",
      "metadata": {
        "editable": false,
        "dc": {
          "key": "31"
        },
        "deletable": false,
        "run_control": {
          "frozen": true
        },
        "tags": [
          "context"
        ],
        "id": "onkbCt2Mr__E"
      },
      "source": [
        "## 5. Playing matchmaker\n",
        "<p>Now that we have identified the likely genders of different names, let's find author genders by searching for each author's name in the <code>babies_df</code> DataFrame, and extracting the associated gender. </p>"
      ]
    },
    {
      "cell_type": "code",
      "metadata": {
        "dc": {
          "key": "31"
        },
        "tags": [
          "sample_code"
        ],
        "trusted": true,
        "id": "FybuoY4Wr__E",
        "outputId": "732369f6-0e64-4d09-f349-fd33f89bd9b1"
      },
      "source": [
        "# This function returns the location of an element in a_list.\n",
        "# Where an item does not exist, it returns -1.\n",
        "def locate_in_list(a_list, element):\n",
        "    loc_of_name = a_list.index(element) if element in a_list else -1\n",
        "    return(loc_of_name)\n",
        "\n",
        "# Looping through author_df['nysiis_name'] and appending the gender of each\n",
        "# author to author_gender.\n",
        "author_gender = []\n",
        "\n",
        "for item in author_df['nysiis_name']:\n",
        "    val = locate_in_list(list(babies_df.babynysiis), item)\n",
        "    \n",
        "    if val > 0:\n",
        "        author_gender.append(babies_df.gender.iloc[val])\n",
        "    \n",
        "    else:\n",
        "        author_gender.append('Unknown')\n",
        "\n",
        "# Adding author_gender to the author_df\n",
        "author_df['author_gender'] = author_gender\n",
        "\n",
        "\n",
        "author_df.head()\n"
      ],
      "execution_count": null,
      "outputs": [
        {
          "output_type": "execute_result",
          "data": {
            "text/plain": [
              "   Year                        Book Title                 Author  \\\n",
              "0  2017                DRAGONS LOVE TACOS             Adam Rubin   \n",
              "1  2017  THE WONDERFUL THINGS YOU WILL BE  Emily Winfield Martin   \n",
              "2  2017          THE DAY THE CRAYONS QUIT           Drew Daywalt   \n",
              "3  2017            ROSIE REVERE, ENGINEER           Andrea Beaty   \n",
              "4  2017              ADA TWIST, SCIENTIST           Andrea Beaty   \n",
              "\n",
              "   Besteller this year first_name nysiis_name author_gender  \n",
              "0                   49       Adam        ADAN             M  \n",
              "1                   48      Emily       ENALY             F  \n",
              "2                   44       Drew          DR             M  \n",
              "3                   38     Andrea        ANDR             M  \n",
              "4                   28     Andrea        ANDR             M  "
            ],
            "text/html": [
              "<div>\n",
              "<style scoped>\n",
              "    .dataframe tbody tr th:only-of-type {\n",
              "        vertical-align: middle;\n",
              "    }\n",
              "\n",
              "    .dataframe tbody tr th {\n",
              "        vertical-align: top;\n",
              "    }\n",
              "\n",
              "    .dataframe thead th {\n",
              "        text-align: right;\n",
              "    }\n",
              "</style>\n",
              "<table border=\"1\" class=\"dataframe\">\n",
              "  <thead>\n",
              "    <tr style=\"text-align: right;\">\n",
              "      <th></th>\n",
              "      <th>Year</th>\n",
              "      <th>Book Title</th>\n",
              "      <th>Author</th>\n",
              "      <th>Besteller this year</th>\n",
              "      <th>first_name</th>\n",
              "      <th>nysiis_name</th>\n",
              "      <th>author_gender</th>\n",
              "    </tr>\n",
              "  </thead>\n",
              "  <tbody>\n",
              "    <tr>\n",
              "      <th>0</th>\n",
              "      <td>2017</td>\n",
              "      <td>DRAGONS LOVE TACOS</td>\n",
              "      <td>Adam Rubin</td>\n",
              "      <td>49</td>\n",
              "      <td>Adam</td>\n",
              "      <td>ADAN</td>\n",
              "      <td>M</td>\n",
              "    </tr>\n",
              "    <tr>\n",
              "      <th>1</th>\n",
              "      <td>2017</td>\n",
              "      <td>THE WONDERFUL THINGS YOU WILL BE</td>\n",
              "      <td>Emily Winfield Martin</td>\n",
              "      <td>48</td>\n",
              "      <td>Emily</td>\n",
              "      <td>ENALY</td>\n",
              "      <td>F</td>\n",
              "    </tr>\n",
              "    <tr>\n",
              "      <th>2</th>\n",
              "      <td>2017</td>\n",
              "      <td>THE DAY THE CRAYONS QUIT</td>\n",
              "      <td>Drew Daywalt</td>\n",
              "      <td>44</td>\n",
              "      <td>Drew</td>\n",
              "      <td>DR</td>\n",
              "      <td>M</td>\n",
              "    </tr>\n",
              "    <tr>\n",
              "      <th>3</th>\n",
              "      <td>2017</td>\n",
              "      <td>ROSIE REVERE, ENGINEER</td>\n",
              "      <td>Andrea Beaty</td>\n",
              "      <td>38</td>\n",
              "      <td>Andrea</td>\n",
              "      <td>ANDR</td>\n",
              "      <td>M</td>\n",
              "    </tr>\n",
              "    <tr>\n",
              "      <th>4</th>\n",
              "      <td>2017</td>\n",
              "      <td>ADA TWIST, SCIENTIST</td>\n",
              "      <td>Andrea Beaty</td>\n",
              "      <td>28</td>\n",
              "      <td>Andrea</td>\n",
              "      <td>ANDR</td>\n",
              "      <td>M</td>\n",
              "    </tr>\n",
              "  </tbody>\n",
              "</table>\n",
              "</div>"
            ]
          },
          "metadata": {
            "tags": []
          },
          "execution_count": 156
        }
      ]
    },
    {
      "cell_type": "markdown",
      "metadata": {
        "editable": false,
        "dc": {
          "key": "38"
        },
        "deletable": false,
        "run_control": {
          "frozen": true
        },
        "tags": [
          "context"
        ],
        "id": "X5T28Ap7r__F"
      },
      "source": [
        "## 6. Tally up\n",
        "<p>From the results above see that there are more female authors on the New York Times best seller's list than male authors. Our dataset spans 2008 to 2017. Let's find out if there have been changes over time.</p>"
      ]
    },
    {
      "cell_type": "code",
      "metadata": {
        "dc": {
          "key": "38"
        },
        "tags": [
          "sample_code"
        ],
        "trusted": true,
        "id": "z8v_NmF6r__F",
        "outputId": "9871f075-b1ca-4abd-8bb4-382c4db4ec62"
      },
      "source": [
        "# Creating a list of unique years, sorted in ascending order.\n",
        "years = list(range(2008,2018,1))\n",
        "\n",
        "# Initializing lists\n",
        "males_by_yr = []\n",
        "females_by_yr = []\n",
        "unknown_by_yr = []\n",
        "\n",
        "# Looping through years to find the number of male, female and unknown authors per year\n",
        "for year in years:\n",
        "    count_df = author_df[author_df['Year'] == year]\n",
        "    males_by_yr.append(len(count_df[ count_df['author_gender']=='M' ] ))\n",
        "    females_by_yr.append(len(count_df[ count_df['author_gender']=='F' ] ))\n",
        "    unknown_by_yr.append(len(count_df[ count_df['author_gender']=='Unknown' ] ))\n",
        "\n",
        "# Printing out yearly values to examine changes over time\n",
        "print(males_by_yr)\n",
        "print(females_by_yr)\n",
        "print(unknown_by_yr)"
      ],
      "execution_count": null,
      "outputs": [
        {
          "output_type": "stream",
          "text": [
            "[8, 19, 27, 21, 21, 11, 21, 18, 25, 20]\n",
            "[15, 45, 48, 51, 46, 51, 34, 30, 32, 43]\n",
            "[1, 3, 0, 1, 0, 2, 1, 0, 0, 1]\n"
          ],
          "name": "stdout"
        }
      ]
    },
    {
      "cell_type": "markdown",
      "metadata": {
        "editable": false,
        "dc": {
          "key": "45"
        },
        "deletable": false,
        "run_control": {
          "frozen": true
        },
        "tags": [
          "context"
        ],
        "id": "835qmWhhr__H"
      },
      "source": [
        "## 7. Foreign-born authors?\n",
        "<p>Our gender data comes from social security applications of individuals born in the US. Hence, one possible explanation for why there are \"unknown\" genders associated with some author names is because these authors were foreign-born. While making this assumption, we should note that these are only a subset of foreign-born authors as others will have names that have a match in <code>baby_df</code> (and in the social security dataset). </p>\n",
        "<p>Using a bar chart, let's explore the trend of foreign-born authors with no name matches in the social security dataset.</p>"
      ]
    },
    {
      "cell_type": "code",
      "metadata": {
        "dc": {
          "key": "45"
        },
        "tags": [
          "sample_code"
        ],
        "trusted": true,
        "id": "D8IKn--hr__H",
        "outputId": "99153412-ad7b-4af6-fb9a-f88799d7a4e3"
      },
      "source": [
        "# Importing matplotlib\n",
        "import matplotlib.pyplot as plt\n",
        "\n",
        "# This makes plots appear in the notebook\n",
        "%matplotlib inline\n",
        "\n",
        "# Plotting the bar chart\n",
        "plt.bar(years, unknown_by_yr)\n",
        "\n",
        "# [OPTIONAL] - Setting a title, and axes labels\n",
        "plt.title('UNKNOWN BY YEAR')\n",
        "plt.axis('tight')"
      ],
      "execution_count": null,
      "outputs": [
        {
          "output_type": "execute_result",
          "data": {
            "text/plain": [
              "(2007.11, 2017.8899999999999, 0.0, 3.15)"
            ]
          },
          "metadata": {
            "tags": []
          },
          "execution_count": 160
        },
        {
          "output_type": "display_data",
          "data": {
            "text/plain": [
              "<matplotlib.figure.Figure at 0x7f552483feb8>"
            ],
            "image/png": "[encoded data removed]"
          },
          "metadata": {
            "tags": []
          }
        }
      ]
    },
    {
      "cell_type": "markdown",
      "metadata": {
        "editable": false,
        "dc": {
          "key": "52"
        },
        "deletable": false,
        "run_control": {
          "frozen": true
        },
        "tags": [
          "context"
        ],
        "id": "sECIvhx9r__I"
      },
      "source": [
        "## 8. Raising the bar\n",
        "<p>What’s more exciting than a bar chart is a grouped bar chart. This type of chart is good for displaying <em>changes</em> over time while also <em>comparing</em> two or more groups. Let’s use a grouped bar chart to look at the distribution of male and female authors over time.</p>"
      ]
    },
    {
      "cell_type": "code",
      "metadata": {
        "dc": {
          "key": "52"
        },
        "tags": [
          "sample_code"
        ],
        "trusted": true,
        "id": "J_MzwOU7r__I",
        "outputId": "f56315a5-8421-4bb7-ca98-f376f619a169"
      },
      "source": [
        "# Creating a new list, where 0.25 is added to each year\n",
        "years_shifted = list(np.array(years)+.25)\n",
        "\n",
        "# Plotting males_by_yr by year\n",
        "plt.bar(years, males_by_yr, width=.25, color='lightblue')\n",
        "\n",
        "# Plotting females_by_yr by years_shifted\n",
        "plt.bar(years_shifted, females_by_yr, width=.25, color='pink')\n",
        "\n",
        "# [OPTIONAL] - Adding relevant Axes labels and Chart Title\n",
        "# ... YOUR CODE FOR TASK 8 ..."
      ],
      "execution_count": null,
      "outputs": [
        {
          "output_type": "execute_result",
          "data": {
            "text/plain": [
              "<Container object of 10 artists>"
            ]
          },
          "metadata": {
            "tags": []
          },
          "execution_count": 162
        },
        {
          "output_type": "display_data",
          "data": {
            "text/plain": [
              "<matplotlib.figure.Figure at 0x7f5526d1fa20>"
            ],
            "image/png": "[encoded data removed]"
          },
          "metadata": {
            "tags": []
          }
        }
      ]
    }
  ]
}