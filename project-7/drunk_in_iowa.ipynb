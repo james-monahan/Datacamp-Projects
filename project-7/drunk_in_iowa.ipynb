{
  "nbformat": 4,
  "nbformat_minor": 0,
  "metadata": {
    "kernelspec": {
      "name": "python3",
      "display_name": "Python 3",
      "language": "python"
    },
    "language_info": {
      "nbconvert_exporter": "python",
      "pygments_lexer": "ipython3",
      "file_extension": ".py",
      "name": "python",
      "mimetype": "text/x-python",
      "version": "3.5.2",
      "codemirror_mode": {
        "name": "ipython",
        "version": 3
      }
    },
    "colab": {
      "name": "drunk-in-iowa.ipynb",
      "provenance": [],
      "include_colab_link": true
    }
  },
  "cells": [
    {
      "cell_type": "markdown",
      "metadata": {
        "id": "view-in-github",
        "colab_type": "text"
      },
      "source": [
        "<a href=\"https://colab.research.google.com/github/james-monahan/Datacamp-Projects/blob/main/project-7/drunk_in_iowa.ipynb\" target=\"_parent\"><img src=\"https://colab.research.google.com/assets/colab-badge.svg\" alt=\"Open In Colab\"/></a>"
      ]
    },
    {
      "cell_type": "markdown",
      "metadata": {
        "run_control": {
          "frozen": true
        },
        "editable": false,
        "dc": {
          "key": "3"
        },
        "tags": [
          "context"
        ],
        "deletable": false,
        "id": "EAIYt-C1b2W4"
      },
      "source": [
        "## 1. Breath alcohol tests in Ames, Iowa, USA\n",
        "<p>Ames, Iowa, USA is the home of Iowa State University, a land grant university with over 36,000 students. By comparison, the city of Ames, Iowa, itself only has about 65,000 residents. As with any other college town, Ames has had its fair share of alcohol-related incidents. (For example, Google 'VEISHEA riots 2014'.) We will take a look at some breath alcohol test data from Ames that is published by the State of Iowa.</p>\n",
        "<p><img style=\"width:500px\" src=\"https://s3.amazonaws.com/assets.datacamp.com/production/project_208/img/usa.jpg\"> </p>\n",
        "<p>The data file 'breath_alcohol_ames.csv' contains 1,556 readings from breath alcohol tests administered by the Ames and Iowa State University Police Departments from January 2013 to December 2017. The columns in this data set are year, month, day, hour, location, gender, Res1, Res2.</p>"
      ]
    },
    {
      "cell_type": "code",
      "metadata": {
        "dc": {
          "key": "3"
        },
        "tags": [
          "sample_code"
        ],
        "trusted": true,
        "colab": {
          "base_uri": "https://localhost:8080/"
        },
        "id": "57Ca6k8fb2W8",
        "outputId": "4f14b346-cbc4-457f-f860-426bcbb19a6b"
      },
      "source": [
        "# import pandas\n",
        "import pandas as pd\n",
        "\n",
        "# read the data into your workspace\n",
        "url_iowa = \"https://raw.githubusercontent.com/james-monahan/Datacamp-Projects/main/project-7/breath_alcohol_ames.csv\"\n",
        "ba_data = pd.read_csv(url_iowa)\n",
        "\n",
        "# quickly inspect the data\n",
        "print(ba_data.head())\n",
        "\n",
        "# obtain counts for each year \n",
        "ba_data['year'].value_counts()\n"
      ],
      "execution_count": 2,
      "outputs": [
        {
          "output_type": "stream",
          "text": [
            "   year  month  day  hour location gender   Res1   Res2\n",
            "0  2017     12   17     1  Ames PD      M  0.046  0.046\n",
            "1  2017     12   14     3   ISU PD      F  0.121  0.120\n",
            "2  2017     12   10     5   ISU PD      F  0.068  0.067\n",
            "3  2017     12   10     3   ISU PD      F  0.077  0.077\n",
            "4  2017     12    9     2   ISU PD      M  0.085  0.084\n"
          ],
          "name": "stdout"
        },
        {
          "output_type": "execute_result",
          "data": {
            "text/plain": [
              "2013    397\n",
              "2014    344\n",
              "2015    286\n",
              "2016    269\n",
              "2017    260\n",
              "Name: year, dtype: int64"
            ]
          },
          "metadata": {
            "tags": []
          },
          "execution_count": 2
        }
      ]
    },
    {
      "cell_type": "markdown",
      "metadata": {
        "run_control": {
          "frozen": true
        },
        "editable": false,
        "dc": {
          "key": "10"
        },
        "tags": [
          "context"
        ],
        "deletable": false,
        "id": "lNDniuu8b2W-"
      },
      "source": [
        "## 2. What is the busiest police department in Ames?\n",
        "<p>There are two police departments in the data set: the Iowa State University Police Department and the Ames Police Department. Which one administers more breathalyzer tests? </p>"
      ]
    },
    {
      "cell_type": "code",
      "metadata": {
        "dc": {
          "key": "10"
        },
        "tags": [
          "sample_code"
        ],
        "trusted": true,
        "colab": {
          "base_uri": "https://localhost:8080/"
        },
        "id": "BUKPAyXAb2W_",
        "outputId": "1fdce306-673a-4514-f1ec-e8c76f34388a"
      },
      "source": [
        "# use value_counts to tally up the totals for each department\n",
        "pds = ba_data['location'].value_counts()\n",
        "pds"
      ],
      "execution_count": 3,
      "outputs": [
        {
          "output_type": "execute_result",
          "data": {
            "text/plain": [
              "ISU PD     940\n",
              "Ames PD    616\n",
              "Name: location, dtype: int64"
            ]
          },
          "metadata": {
            "tags": []
          },
          "execution_count": 3
        }
      ]
    },
    {
      "cell_type": "markdown",
      "metadata": {
        "run_control": {
          "frozen": true
        },
        "editable": false,
        "dc": {
          "key": "18"
        },
        "tags": [
          "context"
        ],
        "deletable": false,
        "id": "IPQ0G800b2W_"
      },
      "source": [
        "## 3. Nothing Good Happens after 2am\n",
        "<p><img src=\"https://s3.amazonaws.com/assets.datacamp.com/production/project_208/img/himym02.jpg\" style=\"float: left;margin:5px 20px 5px 1px;width:300px\"></p>\n",
        "<p>We all know that \"nothing good happens after 2am.\" Thus, there are inevitably some times of the day when breath alcohol tests, especially in a college town like Ames, are most and least common. Which hours of the day have the most and least breathalyzer tests?  </p>"
      ]
    },
    {
      "cell_type": "code",
      "metadata": {
        "dc": {
          "key": "18"
        },
        "tags": [
          "sample_code"
        ],
        "trusted": true,
        "colab": {
          "base_uri": "https://localhost:8080/",
          "height": 300
        },
        "id": "DMhuCxLcb2XA",
        "outputId": "68b25916-c3e5-4e9f-fced-f7847ae6e95c"
      },
      "source": [
        "%matplotlib inline\n",
        "# count by hour \n",
        "hourly = ba_data.groupby(['hour']).size()\n",
        "\n",
        "# create a vertical bar graph of the arrest count by hour\n",
        "hourly.plot.bar(x=hourly)"
      ],
      "execution_count": 8,
      "outputs": [
        {
          "output_type": "execute_result",
          "data": {
            "text/plain": [
              "<matplotlib.axes._subplots.AxesSubplot at 0x7f1521a3fc50>"
            ]
          },
          "metadata": {
            "tags": []
          },
          "execution_count": 8
        },
        {
          "output_type": "display_data",
          "data": {
            "image/png": "[encoded data removed]",
            "text/plain": [
              "<Figure size 432x288 with 1 Axes>"
            ]
          },
          "metadata": {
            "tags": [],
            "needs_background": "light"
          }
        }
      ]
    },
    {
      "cell_type": "markdown",
      "metadata": {
        "run_control": {
          "frozen": true
        },
        "editable": false,
        "dc": {
          "key": "25"
        },
        "tags": [
          "context"
        ],
        "deletable": false,
        "id": "cWg4zaMrb2XB"
      },
      "source": [
        "## 4. Breathalyzer tests by month\n",
        "<p>Now that we have discovered which time of day is most common for breath alcohol tests, we will determine which time of the year has the most breathalyzer tests. Which month will have the most recorded tests?</p>"
      ]
    },
    {
      "cell_type": "code",
      "metadata": {
        "dc": {
          "key": "25"
        },
        "tags": [
          "sample_code"
        ],
        "trusted": true,
        "colab": {
          "base_uri": "https://localhost:8080/",
          "height": 300
        },
        "id": "aMnCIsfNb2XC",
        "outputId": "2c9b0bd8-7a3f-47d0-9373-51ae429615c2"
      },
      "source": [
        "# count by month and arrange by descending frequency\n",
        "monthly = ba_data.groupby(['month']).size()\n",
        "\n",
        "# use plot.bar to make the appropriate bar chart\n",
        "monthly.plot.bar(x='monthly')"
      ],
      "execution_count": 16,
      "outputs": [
        {
          "output_type": "execute_result",
          "data": {
            "text/plain": [
              "<matplotlib.axes._subplots.AxesSubplot at 0x7f15218c4a90>"
            ]
          },
          "metadata": {
            "tags": []
          },
          "execution_count": 16
        },
        {
          "output_type": "display_data",
          "data": {
            "image/png": "[encoded data removed]",
            "text/plain": [
              "<Figure size 432x288 with 1 Axes>"
            ]
          },
          "metadata": {
            "tags": [],
            "needs_background": "light"
          }
        }
      ]
    },
    {
      "cell_type": "markdown",
      "metadata": {
        "run_control": {
          "frozen": true
        },
        "editable": false,
        "dc": {
          "key": "32"
        },
        "tags": [
          "context"
        ],
        "deletable": false,
        "id": "iNxtno4Eb2XC"
      },
      "source": [
        "## 5. COLLEGE\n",
        "<p><img src=\"https://s3.amazonaws.com/assets.datacamp.com/production/project_208/img/PF2081John-Belushi-College-Posters.jpg\" style=\"float: left;margin:5px 20px 5px 1px\"> </p>\n",
        "<p>When we think of (binge) drinking in college towns in America, we usually think of something like this image at the left. And so, one might suspect that breath alcohol tests are given to men more often than women and that men drink more than women. </p>"
      ]
    },
    {
      "cell_type": "code",
      "metadata": {
        "dc": {
          "key": "32"
        },
        "tags": [
          "sample_code"
        ],
        "trusted": true,
        "colab": {
          "base_uri": "https://localhost:8080/",
          "height": 377
        },
        "id": "YYqFmUn5b2XD",
        "outputId": "60ca9b68-591f-445c-8b4e-21499a61aa8d"
      },
      "source": [
        "# count by gender\n",
        "counts_gender = ba_data['gender'].value_counts()\n",
        "\n",
        "# create a dataset with no NAs in gender \n",
        "gen = ba_data.dropna(subset=['gender'])\n",
        "\n",
        "# create a mean test result variable\n",
        "mean_bas = gen.assign(meanRes = (gen.Res1 + gen.Res2) / 2 )\n",
        "\n",
        "# # create side-by-side boxplots to compare the mean blood alcohol levels of men and women\n",
        "mean_bas.boxplot('meanRes', by = 'gender')"
      ],
      "execution_count": 17,
      "outputs": [
        {
          "output_type": "stream",
          "text": [
            "/usr/local/lib/python3.6/dist-packages/numpy/core/_asarray.py:83: VisibleDeprecationWarning: Creating an ndarray from ragged nested sequences (which is a list-or-tuple of lists-or-tuples-or ndarrays with different lengths or shapes) is deprecated. If you meant to do this, you must specify 'dtype=object' when creating the ndarray\n",
            "  return array(a, dtype, copy=False, order=order)\n"
          ],
          "name": "stderr"
        },
        {
          "output_type": "execute_result",
          "data": {
            "text/plain": [
              "<matplotlib.axes._subplots.AxesSubplot at 0x7f152237d470>"
            ]
          },
          "metadata": {
            "tags": []
          },
          "execution_count": 17
        },
        {
          "output_type": "display_data",
          "data": {
            "image/png": "[encoded data removed]",
            "text/plain": [
              "<Figure size 432x288 with 1 Axes>"
            ]
          },
          "metadata": {
            "tags": [],
            "needs_background": "light"
          }
        }
      ]
    },
    {
      "cell_type": "markdown",
      "metadata": {
        "run_control": {
          "frozen": true
        },
        "editable": false,
        "dc": {
          "key": "39"
        },
        "tags": [
          "context"
        ],
        "deletable": false,
        "id": "xuq8LWthb2XE"
      },
      "source": [
        "## 6. Above the legal limit\n",
        "<p>In the USA, it is illegal to drive with a blood alcohol concentration (BAC) above 0.08%. This is the case for <a href=\"https://www.dmv.org/automotive-law/dui.php\">all 50 states</a>. Assuming everyone tested in our data was driving (though we have no way of knowing this from the data), if either of the results (<code>Res1</code>, <code>Res2</code>) are above 0.08, the person would be charged with DUI (driving under the influence). </p>"
      ]
    },
    {
      "cell_type": "code",
      "metadata": {
        "dc": {
          "key": "39"
        },
        "tags": [
          "sample_code"
        ],
        "trusted": true,
        "colab": {
          "base_uri": "https://localhost:8080/"
        },
        "id": "9PlIi4h2b2XF",
        "outputId": "7de17035-1b76-4b2b-f174-02423cbc6d8c"
      },
      "source": [
        "# Filter the data\n",
        "duis = ba_data[(ba_data['Res1'] > .08) | (ba_data['Res2'] > .08)]\n",
        "\n",
        "# proportion of tests that would have resulted in a DUI\n",
        "p_dui = duis.shape[0] / ba_data.shape[0]\n",
        "p_dui"
      ],
      "execution_count": 18,
      "outputs": [
        {
          "output_type": "execute_result",
          "data": {
            "text/plain": [
              "0.7448586118251928"
            ]
          },
          "metadata": {
            "tags": []
          },
          "execution_count": 18
        }
      ]
    },
    {
      "cell_type": "markdown",
      "metadata": {
        "run_control": {
          "frozen": true
        },
        "editable": false,
        "dc": {
          "key": "46"
        },
        "tags": [
          "context"
        ],
        "deletable": false,
        "id": "9y8ZJfRhb2XF"
      },
      "source": [
        "## 7. Breathalyzer tests: is there a pattern over time?\n",
        "<p>We previously saw that 2am is the most common time of day for breathalyzer tests to be administered, and August is the most common month of the year for breathalyzer tests. Now, we look at the weeks in the year over time. </p>"
      ]
    },
    {
      "cell_type": "code",
      "metadata": {
        "dc": {
          "key": "46"
        },
        "tags": [
          "sample_code"
        ],
        "trusted": true,
        "colab": {
          "base_uri": "https://localhost:8080/",
          "height": 255
        },
        "id": "V2qxJTnKb2XG",
        "outputId": "50b9939d-d81d-476d-d46b-30f76d516653"
      },
      "source": [
        "# Create date variable\n",
        "ba_data['date'] = pd.to_datetime(ba_data[['year', 'month', 'day']])\n",
        "\n",
        "# Create a week variable\n",
        "ba_data['week'] = ba_data['date'].dt.week\n",
        "\n",
        "# Check your work\n",
        "ba_data.head()"
      ],
      "execution_count": 20,
      "outputs": [
        {
          "output_type": "stream",
          "text": [
            "/usr/local/lib/python3.6/dist-packages/ipykernel_launcher.py:5: FutureWarning: Series.dt.weekofyear and Series.dt.week have been deprecated.  Please use Series.dt.isocalendar().week instead.\n",
            "  \"\"\"\n"
          ],
          "name": "stderr"
        },
        {
          "output_type": "execute_result",
          "data": {
            "text/html": [
              "<div>\n",
              "<style scoped>\n",
              "    .dataframe tbody tr th:only-of-type {\n",
              "        vertical-align: middle;\n",
              "    }\n",
              "\n",
              "    .dataframe tbody tr th {\n",
              "        vertical-align: top;\n",
              "    }\n",
              "\n",
              "    .dataframe thead th {\n",
              "        text-align: right;\n",
              "    }\n",
              "</style>\n",
              "<table border=\"1\" class=\"dataframe\">\n",
              "  <thead>\n",
              "    <tr style=\"text-align: right;\">\n",
              "      <th></th>\n",
              "      <th>year</th>\n",
              "      <th>month</th>\n",
              "      <th>day</th>\n",
              "      <th>hour</th>\n",
              "      <th>location</th>\n",
              "      <th>gender</th>\n",
              "      <th>Res1</th>\n",
              "      <th>Res2</th>\n",
              "      <th>date</th>\n",
              "      <th>week</th>\n",
              "    </tr>\n",
              "  </thead>\n",
              "  <tbody>\n",
              "    <tr>\n",
              "      <th>0</th>\n",
              "      <td>2017</td>\n",
              "      <td>12</td>\n",
              "      <td>17</td>\n",
              "      <td>1</td>\n",
              "      <td>Ames PD</td>\n",
              "      <td>M</td>\n",
              "      <td>0.046</td>\n",
              "      <td>0.046</td>\n",
              "      <td>2017-12-17</td>\n",
              "      <td>50</td>\n",
              "    </tr>\n",
              "    <tr>\n",
              "      <th>1</th>\n",
              "      <td>2017</td>\n",
              "      <td>12</td>\n",
              "      <td>14</td>\n",
              "      <td>3</td>\n",
              "      <td>ISU PD</td>\n",
              "      <td>F</td>\n",
              "      <td>0.121</td>\n",
              "      <td>0.120</td>\n",
              "      <td>2017-12-14</td>\n",
              "      <td>50</td>\n",
              "    </tr>\n",
              "    <tr>\n",
              "      <th>2</th>\n",
              "      <td>2017</td>\n",
              "      <td>12</td>\n",
              "      <td>10</td>\n",
              "      <td>5</td>\n",
              "      <td>ISU PD</td>\n",
              "      <td>F</td>\n",
              "      <td>0.068</td>\n",
              "      <td>0.067</td>\n",
              "      <td>2017-12-10</td>\n",
              "      <td>49</td>\n",
              "    </tr>\n",
              "    <tr>\n",
              "      <th>3</th>\n",
              "      <td>2017</td>\n",
              "      <td>12</td>\n",
              "      <td>10</td>\n",
              "      <td>3</td>\n",
              "      <td>ISU PD</td>\n",
              "      <td>F</td>\n",
              "      <td>0.077</td>\n",
              "      <td>0.077</td>\n",
              "      <td>2017-12-10</td>\n",
              "      <td>49</td>\n",
              "    </tr>\n",
              "    <tr>\n",
              "      <th>4</th>\n",
              "      <td>2017</td>\n",
              "      <td>12</td>\n",
              "      <td>9</td>\n",
              "      <td>2</td>\n",
              "      <td>ISU PD</td>\n",
              "      <td>M</td>\n",
              "      <td>0.085</td>\n",
              "      <td>0.084</td>\n",
              "      <td>2017-12-09</td>\n",
              "      <td>49</td>\n",
              "    </tr>\n",
              "  </tbody>\n",
              "</table>\n",
              "</div>"
            ],
            "text/plain": [
              "   year  month  day  hour location gender   Res1   Res2       date  week\n",
              "0  2017     12   17     1  Ames PD      M  0.046  0.046 2017-12-17    50\n",
              "1  2017     12   14     3   ISU PD      F  0.121  0.120 2017-12-14    50\n",
              "2  2017     12   10     5   ISU PD      F  0.068  0.067 2017-12-10    49\n",
              "3  2017     12   10     3   ISU PD      F  0.077  0.077 2017-12-10    49\n",
              "4  2017     12    9     2   ISU PD      M  0.085  0.084 2017-12-09    49"
            ]
          },
          "metadata": {
            "tags": []
          },
          "execution_count": 20
        }
      ]
    },
    {
      "cell_type": "markdown",
      "metadata": {
        "run_control": {
          "frozen": true
        },
        "editable": false,
        "dc": {
          "key": "53"
        },
        "tags": [
          "context"
        ],
        "deletable": false,
        "id": "b2zxnEfwb2XG"
      },
      "source": [
        "## 8. Looking at timelines\n",
        "<p>How do the weeks differ over time? One of the most common data visualizations is the time series, a line tracking the changes in a variable over time. We will use the new <code>week</code> variable to look at test frequency over time. We end with a time series plot showing the frequency of breathalyzer tests by week in year, with one line for each year. </p>"
      ]
    },
    {
      "cell_type": "code",
      "metadata": {
        "dc": {
          "key": "53"
        },
        "tags": [
          "sample_code"
        ],
        "trusted": true,
        "colab": {
          "base_uri": "https://localhost:8080/",
          "height": 313
        },
        "id": "j824kl4kb2XH",
        "outputId": "9b3b8e4d-5170-46b5-bd34-fedecbc5e893"
      },
      "source": [
        "# choose and count the variables of interest  \n",
        "timeline = ba_data.groupby(['week','year']).count()['Res1']\n",
        "\n",
        "# unstack and plot\n",
        "timeline.unstack().plot(title='VEISHEA DUIs', legend=True)"
      ],
      "execution_count": 21,
      "outputs": [
        {
          "output_type": "execute_result",
          "data": {
            "text/plain": [
              "<matplotlib.axes._subplots.AxesSubplot at 0x7f15217ae828>"
            ]
          },
          "metadata": {
            "tags": []
          },
          "execution_count": 21
        },
        {
          "output_type": "display_data",
          "data": {
            "image/png": "[encoded data removed]",
            "text/plain": [
              "<Figure size 432x288 with 1 Axes>"
            ]
          },
          "metadata": {
            "tags": [],
            "needs_background": "light"
          }
        }
      ]
    },
    {
      "cell_type": "markdown",
      "metadata": {
        "run_control": {
          "frozen": true
        },
        "editable": false,
        "dc": {
          "key": "60"
        },
        "tags": [
          "context"
        ],
        "deletable": false,
        "id": "BIe0Kz25b2XH"
      },
      "source": [
        "## 9. The end of VEISHEA\n",
        "<p>From <a href=\"https://en.wikipedia.org/wiki/VEISHEA\">Wikipedia</a>: \n",
        "\"VEISHEA was an annual week-long celebration held each spring on the campus of Iowa State University in Ames, Iowa. The celebration featured an annual parade and many open-house demonstrations of the university facilities and departments. Campus organizations exhibited products, technologies, and held fundraisers for various charity groups. In addition, VEISHEA brought speakers, lecturers, and entertainers to Iowa State. [...] VEISHEA was the largest student-run festival in the nation, bringing in tens of thousands of visitors to the campus each year.\"</p>\n",
        "<p>This over 90-year tradition in Ames was <a href=\"https://www.news.iastate.edu/news/2014/08/07/veisheaend\">terminated permanently</a> after <a href=\"https://www.desmoinesregister.com/story/news/crime-and-courts/2014/04/09/veishea-ames-car-tipping/7495935/\">riots in 2014</a>, where drunk celebrators flipped over multiple vehicles and tore light poles down. This was not the first incidence of violence and severe property damage in VEISHEA's history. Did former President Leath make the right decision by canceling VEISHEA?</p>"
      ]
    }
  ]
}